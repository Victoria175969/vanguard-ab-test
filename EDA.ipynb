{
 "cells": [
  {
   "cell_type": "code",
   "execution_count": null,
   "id": "b2d96096-a472-4246-a8dc-e0abbea7bc2f",
   "metadata": {},
   "outputs": [],
   "source": [
    "import pandas as pd\n",
    "import matplotlib.pyplot as plt\n",
    "import seaborn as sns\n",
    "import numpy as np"
   ]
  },
  {
   "cell_type": "code",
   "execution_count": null,
   "id": "03b6acd2-7e79-403b-af29-d9d4e4d6a7ce",
   "metadata": {},
   "outputs": [],
   "source": [
    "df1 = pd.read_csv('df_final_web_data_pt_1.txt', low_memory=False)"
   ]
  },
  {
   "cell_type": "code",
   "execution_count": null,
   "id": "82f5fdf7-a8f3-4790-9acc-971072e6b403",
   "metadata": {},
   "outputs": [],
   "source": [
    "df1"
   ]
  },
  {
   "cell_type": "code",
   "execution_count": null,
   "id": "ca60c251-5162-456b-b186-af0d953dfe9c",
   "metadata": {},
   "outputs": [],
   "source": [
    "df2 = pd.read_csv('df_final_web_data_pt_2.txt', low_memory=False)"
   ]
  },
  {
   "cell_type": "code",
   "execution_count": null,
   "id": "68aaed1a-0339-42ca-8cef-6515b15ceb06",
   "metadata": {},
   "outputs": [],
   "source": [
    "df2"
   ]
  },
  {
   "cell_type": "code",
   "execution_count": null,
   "id": "e1f539f9-d863-4a97-885b-428d17de00d2",
   "metadata": {},
   "outputs": [],
   "source": [
    "df_demo = pd.read_csv('df_final_demo.txt', low_memory=False)"
   ]
  },
  {
   "cell_type": "code",
   "execution_count": null,
   "id": "b46265cb-904a-4999-942d-fe3041cf8fe7",
   "metadata": {},
   "outputs": [],
   "source": [
    "df_demo"
   ]
  },
  {
   "cell_type": "code",
   "execution_count": null,
   "id": "41738935-204b-4222-8ce8-b24705158798",
   "metadata": {},
   "outputs": [],
   "source": [
    "df_experiment_clients = pd.read_csv('df_final_experiment_clients.txt', low_memory=False)"
   ]
  },
  {
   "cell_type": "code",
   "execution_count": null,
   "id": "29dd83dd-2ebb-4f93-8921-e66d584732cc",
   "metadata": {},
   "outputs": [],
   "source": [
    "df_experiment_clients"
   ]
  },
  {
   "cell_type": "code",
   "execution_count": null,
   "id": "2331068d-7df1-478d-8299-c9d842c806be",
   "metadata": {},
   "outputs": [],
   "source": [
    "df_digital_footprints= pd.concat([df1, df2], axis=0)"
   ]
  },
  {
   "cell_type": "code",
   "execution_count": null,
   "id": "1e0fc7d9-b8da-4668-bfd1-54da2e3461c9",
   "metadata": {},
   "outputs": [],
   "source": [
    "df_digital_footprints"
   ]
  },
  {
   "cell_type": "code",
   "execution_count": null,
   "id": "4a8d5d66-46a3-42b9-b769-21127cded894",
   "metadata": {},
   "outputs": [],
   "source": [
    "df_digital_footprints.shape"
   ]
  },
  {
   "cell_type": "code",
   "execution_count": null,
   "id": "805be478-4214-4990-9825-1db90a735622",
   "metadata": {},
   "outputs": [],
   "source": [
    "df1.shape"
   ]
  },
  {
   "cell_type": "code",
   "execution_count": null,
   "id": "4e2f24a6-6c06-4425-bc9f-e5e744223fd3",
   "metadata": {},
   "outputs": [],
   "source": [
    "df2.shape"
   ]
  },
  {
   "cell_type": "code",
   "execution_count": null,
   "id": "da1a62d3-5fe8-439b-9820-4ede2c2a6da2",
   "metadata": {},
   "outputs": [],
   "source": [
    "df_merged_1= pd.merge(df_demo, df_digital_footprints, how=\"outer\", on=[\"client_id\"])"
   ]
  },
  {
   "cell_type": "code",
   "execution_count": null,
   "id": "f1f3db63-8269-4359-83b2-78a33a8a23bd",
   "metadata": {},
   "outputs": [],
   "source": [
    "final_df= pd.merge(df_merged_1, df_experiment_clients, how=\"outer\", on=[\"client_id\"])"
   ]
  },
  {
   "cell_type": "code",
   "execution_count": null,
   "id": "dcbaf20d-2220-430a-97e9-6d0be6b41600",
   "metadata": {},
   "outputs": [],
   "source": [
    "final_df"
   ]
  },
  {
   "cell_type": "code",
   "execution_count": null,
   "id": "1c93b009-5674-45b7-a836-9d85f2065ef1",
   "metadata": {},
   "outputs": [],
   "source": [
    "cleaned_df=final_df.dropna(subset=['Variation'])\n"
   ]
  },
  {
   "cell_type": "code",
   "execution_count": null,
   "id": "ef4d14e5-e4fa-4705-bdc0-415f9e77a415",
   "metadata": {},
   "outputs": [],
   "source": [
    "cleaned_df"
   ]
  },
  {
   "cell_type": "code",
   "execution_count": null,
   "id": "5784dad4-bd5f-4db1-b612-7c6ddcfa8d7c",
   "metadata": {},
   "outputs": [],
   "source": [
    "cleaned_df.nunique()"
   ]
  },
  {
   "cell_type": "code",
   "execution_count": null,
   "id": "61eee206-e57c-4a3d-b424-bad0cdad9632",
   "metadata": {},
   "outputs": [],
   "source": [
    "cleaned_df.dtypes"
   ]
  },
  {
   "cell_type": "code",
   "execution_count": null,
   "id": "8f84fcd2-52b8-4f48-8d02-86dbf7bd5b09",
   "metadata": {},
   "outputs": [],
   "source": [
    "for col in cleaned_df.columns:\n",
    "    if cleaned_df[col].dtype=='object':\n",
    "       print (cleaned_df[col].unique())"
   ]
  },
  {
   "cell_type": "code",
   "execution_count": null,
   "id": "9d0306ca-b316-4183-baf3-f7adb4b00eec",
   "metadata": {},
   "outputs": [],
   "source": [
    "cleaned_df['gendr'].value_counts()"
   ]
  },
  {
   "cell_type": "code",
   "execution_count": null,
   "id": "3135c6fc-b243-4a4d-ac8e-46c22504e625",
   "metadata": {},
   "outputs": [],
   "source": [
    "gender_counts = cleaned_df.groupby('client_id')['gendr'].size()\n"
   ]
  },
  {
   "cell_type": "code",
   "execution_count": null,
   "id": "20dee053-b8d9-4d48-bbac-6159783f4bbd",
   "metadata": {},
   "outputs": [],
   "source": [
    "gender_counts"
   ]
  },
  {
   "cell_type": "code",
   "execution_count": null,
   "id": "52297a8d-219b-49cb-9298-1bd299679d6c",
   "metadata": {},
   "outputs": [],
   "source": [
    "gender_counts.plot(kind='bar', color='skyblue')"
   ]
  },
  {
   "cell_type": "code",
   "execution_count": null,
   "id": "392692eb-5a3d-4009-a693-8535aec09326",
   "metadata": {},
   "outputs": [],
   "source": [
    "plt.show()"
   ]
  },
  {
   "cell_type": "code",
   "execution_count": null,
   "id": "b8c98374-0c2b-4f4e-a687-2302d621fd2a",
   "metadata": {},
   "outputs": [],
   "source": []
  }
 ],
 "metadata": {
  "kernelspec": {
   "display_name": "Python 3 (ipykernel)",
   "language": "python",
   "name": "python3"
  },
  "language_info": {
   "codemirror_mode": {
    "name": "ipython",
    "version": 3
   },
   "file_extension": ".py",
   "mimetype": "text/x-python",
   "name": "python",
   "nbconvert_exporter": "python",
   "pygments_lexer": "ipython3",
   "version": "3.11.5"
  }
 },
 "nbformat": 4,
 "nbformat_minor": 5
}
