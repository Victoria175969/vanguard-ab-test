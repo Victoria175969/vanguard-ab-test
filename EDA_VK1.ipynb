{
 "cells": [
  {
   "cell_type": "code",
   "execution_count": 1,
   "id": "b2d96096-a472-4246-a8dc-e0abbea7bc2f",
   "metadata": {
    "scrolled": true
   },
   "outputs": [],
   "source": [
    "import pandas as pd\n",
    "final_demo_df = pd.read_csv(\"df_final_demo.txt\")"
   ]
  },
  {
   "cell_type": "code",
   "execution_count": 2,
   "id": "a918dab2-9455-4f30-86f1-1104a3889be8",
   "metadata": {},
   "outputs": [],
   "source": [
    "age_group_counts = final_demo_df['clnt_age'].value_counts().sort_index()"
   ]
  },
  {
   "cell_type": "code",
   "execution_count": 3,
   "id": "c012f6c6-6229-45c4-b49a-d43c8a6c10c0",
   "metadata": {},
   "outputs": [],
   "source": [
    "final_experiment_clients_df = pd.read_csv(\"df_final_experiment_clients.txt\")"
   ]
  },
  {
   "cell_type": "code",
   "execution_count": 4,
   "id": "04da83ca-b780-475a-baf1-10798cb3cc87",
   "metadata": {},
   "outputs": [],
   "source": [
    "final_web_data_pt_1_df = pd.read_csv(\"df_final_web_data_pt_1.txt\")"
   ]
  },
  {
   "cell_type": "code",
   "execution_count": 5,
   "id": "bffeef11-276a-4194-80db-803180a7575d",
   "metadata": {},
   "outputs": [],
   "source": [
    "final_web_data_pt_2_df = pd.read_csv(\"df_final_web_data_pt_2.txt\")"
   ]
  },
  {
   "cell_type": "code",
   "execution_count": 6,
   "id": "6f49f1c5-fe6f-4484-8638-440ae647e11c",
   "metadata": {},
   "outputs": [],
   "source": [
    "df_digital_footprints = pd.concat([final_web_data_pt_1_df,final_web_data_pt_2_df ], axis=0)\n"
   ]
  },
  {
   "cell_type": "code",
   "execution_count": 7,
   "id": "7a9efb5a-eafc-4407-ba0f-8c3312d3fde7",
   "metadata": {},
   "outputs": [],
   "source": [
    "df_merged_1= pd.merge(final_demo_df, df_digital_footprints, how=\"outer\", on=[\"client_id\"])\n"
   ]
  },
  {
   "cell_type": "code",
   "execution_count": 8,
   "id": "b6f97b00-39a5-48ad-a2b3-686f18d7417c",
   "metadata": {},
   "outputs": [],
   "source": [
    "final_df= pd.merge(df_merged_1, final_experiment_clients_df, how=\"outer\", on=[\"client_id\"])\n"
   ]
  },
  {
   "cell_type": "code",
   "execution_count": 9,
   "id": "d0409348-e926-46ec-9151-addf8164f646",
   "metadata": {},
   "outputs": [
    {
     "data": {
      "text/html": [
       "<div>\n",
       "<style scoped>\n",
       "    .dataframe tbody tr th:only-of-type {\n",
       "        vertical-align: middle;\n",
       "    }\n",
       "\n",
       "    .dataframe tbody tr th {\n",
       "        vertical-align: top;\n",
       "    }\n",
       "\n",
       "    .dataframe thead th {\n",
       "        text-align: right;\n",
       "    }\n",
       "</style>\n",
       "<table border=\"1\" class=\"dataframe\">\n",
       "  <thead>\n",
       "    <tr style=\"text-align: right;\">\n",
       "      <th></th>\n",
       "      <th>client_id</th>\n",
       "      <th>clnt_tenure_yr</th>\n",
       "      <th>clnt_tenure_mnth</th>\n",
       "      <th>clnt_age</th>\n",
       "      <th>gendr</th>\n",
       "      <th>num_accts</th>\n",
       "      <th>bal</th>\n",
       "      <th>calls_6_mnth</th>\n",
       "      <th>logons_6_mnth</th>\n",
       "      <th>visitor_id</th>\n",
       "      <th>visit_id</th>\n",
       "      <th>process_step</th>\n",
       "      <th>date_time</th>\n",
       "      <th>Variation</th>\n",
       "    </tr>\n",
       "  </thead>\n",
       "  <tbody>\n",
       "    <tr>\n",
       "      <th>12</th>\n",
       "      <td>555</td>\n",
       "      <td>3.0</td>\n",
       "      <td>46.0</td>\n",
       "      <td>29.5</td>\n",
       "      <td>U</td>\n",
       "      <td>2.0</td>\n",
       "      <td>25454.66</td>\n",
       "      <td>2.0</td>\n",
       "      <td>6.0</td>\n",
       "      <td>402506806_56087378777</td>\n",
       "      <td>637149525_38041617439_716659</td>\n",
       "      <td>confirm</td>\n",
       "      <td>2017-04-15 13:00:34</td>\n",
       "      <td>Test</td>\n",
       "    </tr>\n",
       "    <tr>\n",
       "      <th>13</th>\n",
       "      <td>555</td>\n",
       "      <td>3.0</td>\n",
       "      <td>46.0</td>\n",
       "      <td>29.5</td>\n",
       "      <td>U</td>\n",
       "      <td>2.0</td>\n",
       "      <td>25454.66</td>\n",
       "      <td>2.0</td>\n",
       "      <td>6.0</td>\n",
       "      <td>402506806_56087378777</td>\n",
       "      <td>637149525_38041617439_716659</td>\n",
       "      <td>step_3</td>\n",
       "      <td>2017-04-15 13:00:14</td>\n",
       "      <td>Test</td>\n",
       "    </tr>\n",
       "    <tr>\n",
       "      <th>14</th>\n",
       "      <td>555</td>\n",
       "      <td>3.0</td>\n",
       "      <td>46.0</td>\n",
       "      <td>29.5</td>\n",
       "      <td>U</td>\n",
       "      <td>2.0</td>\n",
       "      <td>25454.66</td>\n",
       "      <td>2.0</td>\n",
       "      <td>6.0</td>\n",
       "      <td>402506806_56087378777</td>\n",
       "      <td>637149525_38041617439_716659</td>\n",
       "      <td>step_2</td>\n",
       "      <td>2017-04-15 12:58:35</td>\n",
       "      <td>Test</td>\n",
       "    </tr>\n",
       "    <tr>\n",
       "      <th>15</th>\n",
       "      <td>555</td>\n",
       "      <td>3.0</td>\n",
       "      <td>46.0</td>\n",
       "      <td>29.5</td>\n",
       "      <td>U</td>\n",
       "      <td>2.0</td>\n",
       "      <td>25454.66</td>\n",
       "      <td>2.0</td>\n",
       "      <td>6.0</td>\n",
       "      <td>402506806_56087378777</td>\n",
       "      <td>637149525_38041617439_716659</td>\n",
       "      <td>step_1</td>\n",
       "      <td>2017-04-15 12:58:03</td>\n",
       "      <td>Test</td>\n",
       "    </tr>\n",
       "    <tr>\n",
       "      <th>16</th>\n",
       "      <td>555</td>\n",
       "      <td>3.0</td>\n",
       "      <td>46.0</td>\n",
       "      <td>29.5</td>\n",
       "      <td>U</td>\n",
       "      <td>2.0</td>\n",
       "      <td>25454.66</td>\n",
       "      <td>2.0</td>\n",
       "      <td>6.0</td>\n",
       "      <td>402506806_56087378777</td>\n",
       "      <td>637149525_38041617439_716659</td>\n",
       "      <td>start</td>\n",
       "      <td>2017-04-15 12:57:56</td>\n",
       "      <td>Test</td>\n",
       "    </tr>\n",
       "    <tr>\n",
       "      <th>...</th>\n",
       "      <td>...</td>\n",
       "      <td>...</td>\n",
       "      <td>...</td>\n",
       "      <td>...</td>\n",
       "      <td>...</td>\n",
       "      <td>...</td>\n",
       "      <td>...</td>\n",
       "      <td>...</td>\n",
       "      <td>...</td>\n",
       "      <td>...</td>\n",
       "      <td>...</td>\n",
       "      <td>...</td>\n",
       "      <td>...</td>\n",
       "      <td>...</td>\n",
       "    </tr>\n",
       "    <tr>\n",
       "      <th>755376</th>\n",
       "      <td>9999729</td>\n",
       "      <td>10.0</td>\n",
       "      <td>124.0</td>\n",
       "      <td>31.0</td>\n",
       "      <td>F</td>\n",
       "      <td>3.0</td>\n",
       "      <td>107059.74</td>\n",
       "      <td>6.0</td>\n",
       "      <td>9.0</td>\n",
       "      <td>834634258_21862004160</td>\n",
       "      <td>870243567_56915814033_814203</td>\n",
       "      <td>step_2</td>\n",
       "      <td>2017-05-08 16:08:40</td>\n",
       "      <td>Test</td>\n",
       "    </tr>\n",
       "    <tr>\n",
       "      <th>755377</th>\n",
       "      <td>9999729</td>\n",
       "      <td>10.0</td>\n",
       "      <td>124.0</td>\n",
       "      <td>31.0</td>\n",
       "      <td>F</td>\n",
       "      <td>3.0</td>\n",
       "      <td>107059.74</td>\n",
       "      <td>6.0</td>\n",
       "      <td>9.0</td>\n",
       "      <td>834634258_21862004160</td>\n",
       "      <td>870243567_56915814033_814203</td>\n",
       "      <td>step_1</td>\n",
       "      <td>2017-05-08 16:08:30</td>\n",
       "      <td>Test</td>\n",
       "    </tr>\n",
       "    <tr>\n",
       "      <th>755378</th>\n",
       "      <td>9999729</td>\n",
       "      <td>10.0</td>\n",
       "      <td>124.0</td>\n",
       "      <td>31.0</td>\n",
       "      <td>F</td>\n",
       "      <td>3.0</td>\n",
       "      <td>107059.74</td>\n",
       "      <td>6.0</td>\n",
       "      <td>9.0</td>\n",
       "      <td>834634258_21862004160</td>\n",
       "      <td>870243567_56915814033_814203</td>\n",
       "      <td>start</td>\n",
       "      <td>2017-05-08 16:08:25</td>\n",
       "      <td>Test</td>\n",
       "    </tr>\n",
       "    <tr>\n",
       "      <th>755391</th>\n",
       "      <td>9999832</td>\n",
       "      <td>23.0</td>\n",
       "      <td>281.0</td>\n",
       "      <td>49.0</td>\n",
       "      <td>F</td>\n",
       "      <td>2.0</td>\n",
       "      <td>431887.61</td>\n",
       "      <td>1.0</td>\n",
       "      <td>4.0</td>\n",
       "      <td>145538019_54444341400</td>\n",
       "      <td>472154369_16714624241_585315</td>\n",
       "      <td>step_1</td>\n",
       "      <td>2017-05-16 16:46:11</td>\n",
       "      <td>Test</td>\n",
       "    </tr>\n",
       "    <tr>\n",
       "      <th>755392</th>\n",
       "      <td>9999832</td>\n",
       "      <td>23.0</td>\n",
       "      <td>281.0</td>\n",
       "      <td>49.0</td>\n",
       "      <td>F</td>\n",
       "      <td>2.0</td>\n",
       "      <td>431887.61</td>\n",
       "      <td>1.0</td>\n",
       "      <td>4.0</td>\n",
       "      <td>145538019_54444341400</td>\n",
       "      <td>472154369_16714624241_585315</td>\n",
       "      <td>start</td>\n",
       "      <td>2017-05-16 16:46:03</td>\n",
       "      <td>Test</td>\n",
       "    </tr>\n",
       "  </tbody>\n",
       "</table>\n",
       "<p>321309 rows × 14 columns</p>\n",
       "</div>"
      ],
      "text/plain": [
       "        client_id  clnt_tenure_yr  clnt_tenure_mnth  clnt_age gendr  \\\n",
       "12            555             3.0              46.0      29.5     U   \n",
       "13            555             3.0              46.0      29.5     U   \n",
       "14            555             3.0              46.0      29.5     U   \n",
       "15            555             3.0              46.0      29.5     U   \n",
       "16            555             3.0              46.0      29.5     U   \n",
       "...           ...             ...               ...       ...   ...   \n",
       "755376    9999729            10.0             124.0      31.0     F   \n",
       "755377    9999729            10.0             124.0      31.0     F   \n",
       "755378    9999729            10.0             124.0      31.0     F   \n",
       "755391    9999832            23.0             281.0      49.0     F   \n",
       "755392    9999832            23.0             281.0      49.0     F   \n",
       "\n",
       "        num_accts        bal  calls_6_mnth  logons_6_mnth  \\\n",
       "12            2.0   25454.66           2.0            6.0   \n",
       "13            2.0   25454.66           2.0            6.0   \n",
       "14            2.0   25454.66           2.0            6.0   \n",
       "15            2.0   25454.66           2.0            6.0   \n",
       "16            2.0   25454.66           2.0            6.0   \n",
       "...           ...        ...           ...            ...   \n",
       "755376        3.0  107059.74           6.0            9.0   \n",
       "755377        3.0  107059.74           6.0            9.0   \n",
       "755378        3.0  107059.74           6.0            9.0   \n",
       "755391        2.0  431887.61           1.0            4.0   \n",
       "755392        2.0  431887.61           1.0            4.0   \n",
       "\n",
       "                   visitor_id                      visit_id process_step  \\\n",
       "12      402506806_56087378777  637149525_38041617439_716659      confirm   \n",
       "13      402506806_56087378777  637149525_38041617439_716659       step_3   \n",
       "14      402506806_56087378777  637149525_38041617439_716659       step_2   \n",
       "15      402506806_56087378777  637149525_38041617439_716659       step_1   \n",
       "16      402506806_56087378777  637149525_38041617439_716659        start   \n",
       "...                       ...                           ...          ...   \n",
       "755376  834634258_21862004160  870243567_56915814033_814203       step_2   \n",
       "755377  834634258_21862004160  870243567_56915814033_814203       step_1   \n",
       "755378  834634258_21862004160  870243567_56915814033_814203        start   \n",
       "755391  145538019_54444341400  472154369_16714624241_585315       step_1   \n",
       "755392  145538019_54444341400  472154369_16714624241_585315        start   \n",
       "\n",
       "                  date_time Variation  \n",
       "12      2017-04-15 13:00:34      Test  \n",
       "13      2017-04-15 13:00:14      Test  \n",
       "14      2017-04-15 12:58:35      Test  \n",
       "15      2017-04-15 12:58:03      Test  \n",
       "16      2017-04-15 12:57:56      Test  \n",
       "...                     ...       ...  \n",
       "755376  2017-05-08 16:08:40      Test  \n",
       "755377  2017-05-08 16:08:30      Test  \n",
       "755378  2017-05-08 16:08:25      Test  \n",
       "755391  2017-05-16 16:46:11      Test  \n",
       "755392  2017-05-16 16:46:03      Test  \n",
       "\n",
       "[321309 rows x 14 columns]"
      ]
     },
     "execution_count": 9,
     "metadata": {},
     "output_type": "execute_result"
    }
   ],
   "source": [
    "# Cleaned df after dropping null values\n",
    "cleaned_df=final_df.dropna(subset=['Variation'])\n",
    "cleaned_df"
   ]
  },
  {
   "cell_type": "code",
   "execution_count": 10,
   "id": "160640f5-8a81-4af3-93ce-2cef01d79132",
   "metadata": {},
   "outputs": [
    {
     "data": {
      "text/plain": [
       "Variation\n",
       "Control    143462\n",
       "Test       177847\n",
       "Name: client_id, dtype: int64"
      ]
     },
     "execution_count": 10,
     "metadata": {},
     "output_type": "execute_result"
    }
   ],
   "source": [
    "# Group all clients by Variation (Control/Test)\n",
    "client_count_by_test = cleaned_df.groupby('Variation')['client_id'].count()\n",
    "client_count_by_test"
   ]
  },
  {
   "cell_type": "code",
   "execution_count": 11,
   "id": "f1916fba-2221-40d5-bd81-d2b199d9e10b",
   "metadata": {},
   "outputs": [
    {
     "data": {
      "text/plain": [
       "(48.6, 50.0, 58.5)"
      ]
     },
     "execution_count": 11,
     "metadata": {},
     "output_type": "execute_result"
    }
   ],
   "source": [
    "# Age central measures for all clients\n",
    "mean_age = cleaned_df['clnt_age'].mean().round(1)\n",
    "median_age = cleaned_df['clnt_age'].median()\n",
    "mode_age = cleaned_df['clnt_age'].mode()[0]\n",
    "mean_age, median_age, mode_age"
   ]
  },
  {
   "cell_type": "code",
   "execution_count": 12,
   "id": "3f922287-44ca-4c54-8c0a-8709016a5c66",
   "metadata": {},
   "outputs": [],
   "source": [
    "import pandas as pd\n",
    "import scipy.stats as st\n",
    "import numpy as np\n"
   ]
  },
  {
   "cell_type": "code",
   "execution_count": 13,
   "id": "6d5f2aa1-2d03-406e-a3cf-5e88080b3733",
   "metadata": {},
   "outputs": [],
   "source": [
    "#Set the hypothesis about client age  whether the average age of clients engaging\n",
    "# with the new process is the same as those engaging with the old process\n",
    "\n",
    "#H0: mu Control = mu Test\n",
    "#H1: mu Control != mu Test"
   ]
  },
  {
   "cell_type": "code",
   "execution_count": 14,
   "id": "808b9d0b-02b0-42d3-9933-2266d3ea4943",
   "metadata": {},
   "outputs": [],
   "source": [
    "# Choose the significance level\n",
    "alpha = 0.05"
   ]
  },
  {
   "cell_type": "code",
   "execution_count": 15,
   "id": "3eb1017b-5b8e-487f-8fb9-2012c8499972",
   "metadata": {},
   "outputs": [],
   "source": [
    "# Defining Control and Test Groups for Client Age\n",
    "control_1 = cleaned_df[cleaned_df[\"Variation\"]==\"Control\"][\"clnt_age\"]\n",
    "test_1 = cleaned_df[cleaned_df[\"Variation\"]==\"Test\"][\"clnt_age\"]"
   ]
  },
  {
   "cell_type": "code",
   "execution_count": 16,
   "id": "6b72aa95-8c4f-4c2a-af28-640a1784d4cc",
   "metadata": {},
   "outputs": [
    {
     "name": "stderr",
     "output_type": "stream",
     "text": [
      "/var/folders/tk/l3rys1j13d714cd0mx1y2mn00000gn/T/ipykernel_35609/3427762023.py:2: SettingWithCopyWarning: \n",
      "A value is trying to be set on a copy of a slice from a DataFrame\n",
      "\n",
      "See the caveats in the documentation: https://pandas.pydata.org/pandas-docs/stable/user_guide/indexing.html#returning-a-view-versus-a-copy\n",
      "  control_1.dropna(inplace = True)\n"
     ]
    }
   ],
   "source": [
    "# Cleaning Control group of nan values\n",
    "control_1.dropna(inplace = True)"
   ]
  },
  {
   "cell_type": "code",
   "execution_count": 17,
   "id": "3376deda-a0b8-478e-a37d-954cb04b6c7d",
   "metadata": {
    "scrolled": true
   },
   "outputs": [
    {
     "name": "stderr",
     "output_type": "stream",
     "text": [
      "/var/folders/tk/l3rys1j13d714cd0mx1y2mn00000gn/T/ipykernel_35609/2819449625.py:2: SettingWithCopyWarning: \n",
      "A value is trying to be set on a copy of a slice from a DataFrame\n",
      "\n",
      "See the caveats in the documentation: https://pandas.pydata.org/pandas-docs/stable/user_guide/indexing.html#returning-a-view-versus-a-copy\n",
      "  test_1.dropna(inplace = True)\n"
     ]
    }
   ],
   "source": [
    "# Cleaning Test group of nan values\n",
    "test_1.dropna(inplace = True)"
   ]
  },
  {
   "cell_type": "code",
   "execution_count": 18,
   "id": "fbe34ae6-25a3-45f1-9e3f-5ab629ede6f9",
   "metadata": {},
   "outputs": [
    {
     "data": {
      "text/plain": [
       "TtestResult(statistic=-7.926400435419626, pvalue=2.263054043650787e-15, df=321193.0)"
      ]
     },
     "execution_count": 18,
     "metadata": {},
     "output_type": "execute_result"
    }
   ],
   "source": [
    "st.ttest_ind(control_1,test_1,alternative = 'two-sided')\n",
    "# the p_value is lower than our significance level, we can reject the null hypothesis "
   ]
  },
  {
   "cell_type": "code",
   "execution_count": 19,
   "id": "eda46287-6f76-4ce9-9b80-a9e40f924711",
   "metadata": {},
   "outputs": [],
   "source": [
    "# Defining Control and Test Groups for Client Tenure\n",
    "control_2 = cleaned_df[cleaned_df[\"Variation\"]==\"Control\"][\"clnt_tenure_yr\"]\n",
    "test_2 = cleaned_df[cleaned_df[\"Variation\"]==\"Test\"][\"clnt_tenure_yr\"]"
   ]
  },
  {
   "cell_type": "code",
   "execution_count": 20,
   "id": "85e57259-b662-41c9-af09-d0f4c92a50af",
   "metadata": {},
   "outputs": [
    {
     "name": "stderr",
     "output_type": "stream",
     "text": [
      "/var/folders/tk/l3rys1j13d714cd0mx1y2mn00000gn/T/ipykernel_35609/3511551151.py:1: SettingWithCopyWarning: \n",
      "A value is trying to be set on a copy of a slice from a DataFrame\n",
      "\n",
      "See the caveats in the documentation: https://pandas.pydata.org/pandas-docs/stable/user_guide/indexing.html#returning-a-view-versus-a-copy\n",
      "  control_2.dropna(inplace = True)\n",
      "/var/folders/tk/l3rys1j13d714cd0mx1y2mn00000gn/T/ipykernel_35609/3511551151.py:2: SettingWithCopyWarning: \n",
      "A value is trying to be set on a copy of a slice from a DataFrame\n",
      "\n",
      "See the caveats in the documentation: https://pandas.pydata.org/pandas-docs/stable/user_guide/indexing.html#returning-a-view-versus-a-copy\n",
      "  test_2.dropna(inplace = True)\n"
     ]
    }
   ],
   "source": [
    "control_2.dropna(inplace = True)\n",
    "test_2.dropna(inplace = True)"
   ]
  },
  {
   "cell_type": "code",
   "execution_count": 21,
   "id": "aad63c05-2173-486e-a091-3f814006009c",
   "metadata": {},
   "outputs": [
    {
     "data": {
      "text/plain": [
       "TtestResult(statistic=-0.33402557786961984, pvalue=0.7383604757924893, df=321205.0)"
      ]
     },
     "execution_count": 21,
     "metadata": {},
     "output_type": "execute_result"
    }
   ],
   "source": [
    "st.ttest_ind(control_2,test_2, alternative = 'two-sided' )\n",
    "# the p_value is higher than our significance level, we can not reject the null hypothesis "
   ]
  },
  {
   "cell_type": "code",
   "execution_count": 22,
   "id": "242f5a7f-b587-4a10-858e-adb99ef95276",
   "metadata": {},
   "outputs": [
    {
     "data": {
      "text/plain": [
       "clnt_age\n",
       "17.0     19\n",
       "17.5    412\n",
       "18.0    317\n",
       "18.5    709\n",
       "19.0    458\n",
       "       ... \n",
       "93.5     32\n",
       "94.0     25\n",
       "94.5      5\n",
       "95.5      6\n",
       "96.0     10\n",
       "Name: clnt_tenure_yr, Length: 158, dtype: int64"
      ]
     },
     "execution_count": 22,
     "metadata": {},
     "output_type": "execute_result"
    }
   ],
   "source": [
    "# Count of tenure years by age group\n",
    "age_group = cleaned_df.groupby('clnt_age')\n",
    "client_count_by_age_tenure = cleaned_df.groupby('clnt_age')['clnt_tenure_yr'].count()\n",
    "client_count_by_age_tenure"
   ]
  },
  {
   "cell_type": "code",
   "execution_count": 23,
   "id": "2bbd1330-38cc-43ab-9299-0dbb50fc0882",
   "metadata": {},
   "outputs": [
    {
     "data": {
      "text/plain": [
       "clnt_age\n",
       "17.0     8.7\n",
       "17.5     7.5\n",
       "18.0    10.1\n",
       "18.5     9.0\n",
       "19.0     8.9\n",
       "        ... \n",
       "93.5    20.5\n",
       "94.0     7.4\n",
       "94.5    15.0\n",
       "95.5    12.0\n",
       "96.0    16.8\n",
       "Name: clnt_tenure_yr, Length: 158, dtype: float64"
      ]
     },
     "execution_count": 23,
     "metadata": {},
     "output_type": "execute_result"
    }
   ],
   "source": [
    "# Average length of tenure (years) by age group\n",
    "avg_tenure_by_age = cleaned_df.groupby('clnt_age')['clnt_tenure_yr'].mean().round(1)\n",
    "avg_tenure_by_age"
   ]
  },
  {
   "cell_type": "code",
   "execution_count": 24,
   "id": "ec16190f-11dd-4635-a65a-3df9dd53326f",
   "metadata": {},
   "outputs": [
    {
     "data": {
      "text/plain": [
       "42.5"
      ]
     },
     "execution_count": 24,
     "metadata": {},
     "output_type": "execute_result"
    }
   ],
   "source": [
    "# Age of the client with the longest tenure\n",
    "client_count_by_age = cleaned_df.groupby('clnt_age')['clnt_tenure_yr'].max()\n",
    "age_with_max_tenure = client_count_by_age .idxmax()\n",
    "age_with_max_tenure"
   ]
  },
  {
   "cell_type": "code",
   "execution_count": 25,
   "id": "46969950-1883-4d3f-ba9a-b1e52207ec81",
   "metadata": {},
   "outputs": [
    {
     "data": {
      "text/plain": [
       "12.2"
      ]
     },
     "execution_count": 25,
     "metadata": {},
     "output_type": "execute_result"
    }
   ],
   "source": [
    "# Average tenure in years by all age groups\n",
    "cleaned_df['clnt_tenure_yr'].mean().round(1)"
   ]
  },
  {
   "cell_type": "code",
   "execution_count": 26,
   "id": "67d52193-9c0a-40be-b851-0baaf6800f29",
   "metadata": {},
   "outputs": [
    {
     "data": {
      "text/plain": [
       "55.0"
      ]
     },
     "execution_count": 26,
     "metadata": {},
     "output_type": "execute_result"
    }
   ],
   "source": [
    "# Longest tenure in years by all age groups\n",
    "cleaned_df['clnt_tenure_yr'].max() # check for mistakes!"
   ]
  },
  {
   "cell_type": "code",
   "execution_count": 27,
   "id": "3609a320-1408-4082-8770-a8a12d0a1c9b",
   "metadata": {},
   "outputs": [
    {
     "data": {
      "text/plain": [
       "<bound method Series.reset_index of Variation\n",
       "Control    48.31\n",
       "Test       48.75\n",
       "Name: clnt_age, dtype: float64>"
      ]
     },
     "execution_count": 27,
     "metadata": {},
     "output_type": "execute_result"
    }
   ],
   "source": [
    "mean_age = cleaned_df.groupby(['Variation'])['clnt_age'].mean().round(2).reset_index\n",
    "mean_age"
   ]
  },
  {
   "cell_type": "code",
   "execution_count": 28,
   "id": "d00196b4-7d57-4b72-b88d-b3100575c4ac",
   "metadata": {},
   "outputs": [
    {
     "data": {
      "text/plain": [
       "<bound method Series.reset_index of Variation\n",
       "Control    12.172\n",
       "Test       12.180\n",
       "Name: clnt_tenure_yr, dtype: float64>"
      ]
     },
     "execution_count": 28,
     "metadata": {},
     "output_type": "execute_result"
    }
   ],
   "source": [
    "# Average tenure by Variation\n",
    "avg_tenure_variation = cleaned_df.groupby(['Variation'])['clnt_tenure_yr'].mean().round(3).reset_index\n",
    "avg_tenure_variation"
   ]
  },
  {
   "cell_type": "code",
   "execution_count": 29,
   "id": "1e1e95ed-361e-4d80-8a10-024d73ad323f",
   "metadata": {},
   "outputs": [
    {
     "data": {
      "image/png": "[encoded data removed]",
      "text/plain": [
       "<Figure size 1000x600 with 1 Axes>"
      ]
     },
     "metadata": {},
     "output_type": "display_data"
    }
   ],
   "source": [
    "#  distribution of number of clients by age groups\n",
    "import matplotlib.pyplot as plt\n",
    "import seaborn as sns\n",
    "\n",
    "plt.figure(figsize=(10, 6))\n",
    "sns.histplot(data=cleaned_df['clnt_age'], bins=20, kde=True, color=\"skyblue\")\n",
    "plt.title('Distribution of Age')\n",
    "plt.show()"
   ]
  },
  {
   "cell_type": "code",
   "execution_count": 30,
   "id": "cbf09cec-3fc0-4115-8311-e816522e41dc",
   "metadata": {},
   "outputs": [
    {
     "data": {
      "text/plain": [
       "gendr\n",
       "U    108884\n",
       "M    108013\n",
       "F    104302\n",
       "X         8\n",
       "Name: count, dtype: int64"
      ]
     },
     "execution_count": 30,
     "metadata": {},
     "output_type": "execute_result"
    }
   ],
   "source": [
    "# Client distribution by gender\n",
    "cleaned_df['gendr'].value_counts()\n"
   ]
  },
  {
   "cell_type": "code",
   "execution_count": 31,
   "id": "a3b33d69-76d2-4721-9a94-53bf71c38fe7",
   "metadata": {},
   "outputs": [
    {
     "data": {
      "text/plain": [
       "(17.0, 96.0)"
      ]
     },
     "execution_count": 31,
     "metadata": {},
     "output_type": "execute_result"
    }
   ],
   "source": [
    "min_age = cleaned_df['clnt_age'].min()\n",
    "max_age = cleaned_df['clnt_age'].max()\n",
    "min_age, max_age"
   ]
  },
  {
   "cell_type": "code",
   "execution_count": 32,
   "id": "7f980c26-4d69-4792-a37a-2bb709dce7b2",
   "metadata": {},
   "outputs": [
    {
     "data": {
      "text/plain": [
       "15.65"
      ]
     },
     "execution_count": 32,
     "metadata": {},
     "output_type": "execute_result"
    }
   ],
   "source": [
    "standard_deviation = round(cleaned_df['clnt_age'].std(), 2)\n",
    "standard_deviation"
   ]
  },
  {
   "cell_type": "code",
   "execution_count": 33,
   "id": "ff4141c2-b6d2-467f-8009-77a7626d4f3d",
   "metadata": {},
   "outputs": [
    {
     "data": {
      "text/plain": [
       "(-0.0, -0.9)"
      ]
     },
     "execution_count": 33,
     "metadata": {},
     "output_type": "execute_result"
    }
   ],
   "source": [
    "skewness_age = cleaned_df['clnt_age'].skew().round(1)\n",
    "kurtosis_age = cleaned_df['clnt_age'].kurtosis().round(1)\n",
    "skewness_age, kurtosis_age"
   ]
  },
  {
   "cell_type": "code",
   "execution_count": 34,
   "id": "4bad80ee-c673-4c79-a6b0-f8058283ecdc",
   "metadata": {},
   "outputs": [
    {
     "data": {
      "text/plain": [
       "client_id             int64\n",
       "clnt_tenure_yr      float64\n",
       "clnt_tenure_mnth    float64\n",
       "clnt_age            float64\n",
       "gendr                object\n",
       "num_accts           float64\n",
       "bal                 float64\n",
       "calls_6_mnth        float64\n",
       "logons_6_mnth       float64\n",
       "visitor_id           object\n",
       "visit_id             object\n",
       "process_step         object\n",
       "date_time            object\n",
       "Variation            object\n",
       "dtype: object"
      ]
     },
     "execution_count": 34,
     "metadata": {},
     "output_type": "execute_result"
    }
   ],
   "source": [
    "cleaned_df.dtypes"
   ]
  },
  {
   "cell_type": "code",
   "execution_count": 35,
   "id": "51561b1e-0f28-49a2-a4b1-a9befaa99639",
   "metadata": {},
   "outputs": [
    {
     "data": {
      "text/plain": [
       "<bound method Series.reset_index of Variation\n",
       "Control    159398.6\n",
       "Test       164477.4\n",
       "Name: bal, dtype: float64>"
      ]
     },
     "execution_count": 35,
     "metadata": {},
     "output_type": "execute_result"
    }
   ],
   "source": [
    "# Average account balance by Variation\n",
    "avg_balance_account = cleaned_df.groupby(['Variation'])['bal'].mean().round(1).reset_index\n",
    "avg_balance_account"
   ]
  },
  {
   "cell_type": "code",
   "execution_count": 36,
   "id": "ad33c6b2-28a3-451c-abf1-9495e5f08c2e",
   "metadata": {},
   "outputs": [],
   "source": [
    "# Defining Control and Test Groups for Account Balances\n",
    "control_3 = cleaned_df[cleaned_df[\"Variation\"]==\"Control\"][\"bal\"]\n",
    "test_3 = cleaned_df[cleaned_df[\"Variation\"]==\"Test\"][\"bal\"]"
   ]
  },
  {
   "cell_type": "code",
   "execution_count": 37,
   "id": "8c8d3539-e795-4663-a865-e2d8b0f40db4",
   "metadata": {},
   "outputs": [
    {
     "name": "stderr",
     "output_type": "stream",
     "text": [
      "/var/folders/tk/l3rys1j13d714cd0mx1y2mn00000gn/T/ipykernel_35609/2735719742.py:1: SettingWithCopyWarning: \n",
      "A value is trying to be set on a copy of a slice from a DataFrame\n",
      "\n",
      "See the caveats in the documentation: https://pandas.pydata.org/pandas-docs/stable/user_guide/indexing.html#returning-a-view-versus-a-copy\n",
      "  control_3.dropna(inplace = True)\n",
      "/var/folders/tk/l3rys1j13d714cd0mx1y2mn00000gn/T/ipykernel_35609/2735719742.py:2: SettingWithCopyWarning: \n",
      "A value is trying to be set on a copy of a slice from a DataFrame\n",
      "\n",
      "See the caveats in the documentation: https://pandas.pydata.org/pandas-docs/stable/user_guide/indexing.html#returning-a-view-versus-a-copy\n",
      "  test_3.dropna(inplace = True)\n"
     ]
    }
   ],
   "source": [
    "control_3.dropna(inplace = True)\n",
    "test_3.dropna(inplace = True)"
   ]
  },
  {
   "cell_type": "code",
   "execution_count": 38,
   "id": "50c690c3-a1b5-4d76-bde3-6ebfd39b455e",
   "metadata": {},
   "outputs": [
    {
     "data": {
      "text/plain": [
       "TtestResult(statistic=-4.094688433036507, pvalue=4.228397982213412e-05, df=321205.0)"
      ]
     },
     "execution_count": 38,
     "metadata": {},
     "output_type": "execute_result"
    }
   ],
   "source": [
    "\n",
    "st.ttest_ind(control_3,test_3,alternative = 'two-sided')\n",
    "# the p_value is lower than our significance level, we can reject the null hypothesis "
   ]
  },
  {
   "cell_type": "code",
   "execution_count": 39,
   "id": "809fd271-126f-49d6-bfa4-d214b8decc1c",
   "metadata": {},
   "outputs": [
    {
     "data": {
      "text/plain": [
       "(36439, 14)"
      ]
     },
     "execution_count": 39,
     "metadata": {},
     "output_type": "execute_result"
    }
   ],
   "source": [
    "# Checking for outliers in balance accounts - YES\n",
    "Q1 = cleaned_df['bal'].quantile(0.25)\n",
    "Q3 = cleaned_df['bal'].quantile(0.75)\n",
    "IQR = Q3 - Q1\n",
    "    \n",
    " \n",
    "lower_bound = Q1 - 1.5 * IQR\n",
    "upper_bound = Q3 + 1.5 * IQR\n",
    "lower_bound, upper_bound\n",
    "outliers = cleaned_df[(cleaned_df['bal'] < lower_bound) | (cleaned_df['bal'] > upper_bound)]\n",
    "outliers.shape"
   ]
  },
  {
   "cell_type": "code",
   "execution_count": 40,
   "id": "459e38fb-093c-48d4-aa28-52e8d1bccdda",
   "metadata": {},
   "outputs": [
    {
     "data": {
      "text/plain": [
       "(4214, 14)"
      ]
     },
     "execution_count": 40,
     "metadata": {},
     "output_type": "execute_result"
    }
   ],
   "source": [
    "# Checking for outliers in tenure years - YES\n",
    "Q1 = cleaned_df['clnt_tenure_yr'].quantile(0.25)\n",
    "Q3 = cleaned_df['clnt_tenure_yr'].quantile(0.75)\n",
    "IQR = Q3 - Q1\n",
    "    \n",
    " \n",
    "lower_bound = Q1 - 1.5 * IQR\n",
    "upper_bound = Q3 + 1.5 * IQR\n",
    "lower_bound, upper_bound\n",
    "outliers = cleaned_df[(cleaned_df['clnt_tenure_yr'] < lower_bound) | (cleaned_df['clnt_tenure_yr'] > upper_bound)]\n",
    "outliers.shape"
   ]
  },
  {
   "cell_type": "code",
   "execution_count": 41,
   "id": "625f40b6-049c-42ee-9551-69e96ba32bbc",
   "metadata": {},
   "outputs": [
    {
     "data": {
      "text/plain": [
       "(0, 14)"
      ]
     },
     "execution_count": 41,
     "metadata": {},
     "output_type": "execute_result"
    }
   ],
   "source": [
    "# Checking for outliers- NONE\n",
    "Q1 = cleaned_df['calls_6_mnth'].quantile(0.25)\n",
    "Q3 = cleaned_df['calls_6_mnth'].quantile(0.75)\n",
    "IQR = Q3 - Q1\n",
    "    \n",
    " \n",
    "lower_bound = Q1 - 1.5 * IQR\n",
    "upper_bound = Q3 + 1.5 * IQR\n",
    "lower_bound, upper_bound\n",
    "outliers = cleaned_df[(cleaned_df['calls_6_mnth'] < lower_bound) | (cleaned_df['calls_6_mnth'] > upper_bound)]\n",
    "outliers.shape"
   ]
  },
  {
   "cell_type": "code",
   "execution_count": 42,
   "id": "7af62510-4323-460b-8c21-7e5886b33f9e",
   "metadata": {},
   "outputs": [
    {
     "data": {
      "text/plain": [
       "(0, 14)"
      ]
     },
     "execution_count": 42,
     "metadata": {},
     "output_type": "execute_result"
    }
   ],
   "source": [
    "# Checking for outliners - NONE\n",
    "Q1 = cleaned_df['logons_6_mnth'].quantile(0.25)\n",
    "Q3 = cleaned_df['logons_6_mnth'].quantile(0.75)\n",
    "IQR = Q3 - Q1\n",
    "    \n",
    " \n",
    "lower_bound = Q1 - 1.5 * IQR\n",
    "upper_bound = Q3 + 1.5 * IQR\n",
    "lower_bound, upper_bound\n",
    "outliers = cleaned_df[(cleaned_df['logons_6_mnth'] < lower_bound) | (cleaned_df['logons_6_mnth'] > upper_bound)]\n",
    "outliers.shape"
   ]
  },
  {
   "cell_type": "code",
   "execution_count": 43,
   "id": "cfbca610-ebc2-4255-b570-2c08ab253604",
   "metadata": {},
   "outputs": [
    {
     "data": {
      "text/html": [
       "<div>\n",
       "<style scoped>\n",
       "    .dataframe tbody tr th:only-of-type {\n",
       "        vertical-align: middle;\n",
       "    }\n",
       "\n",
       "    .dataframe tbody tr th {\n",
       "        vertical-align: top;\n",
       "    }\n",
       "\n",
       "    .dataframe thead th {\n",
       "        text-align: right;\n",
       "    }\n",
       "</style>\n",
       "<table border=\"1\" class=\"dataframe\">\n",
       "  <thead>\n",
       "    <tr style=\"text-align: right;\">\n",
       "      <th></th>\n",
       "      <th>client_id</th>\n",
       "      <th>clnt_tenure_yr</th>\n",
       "      <th>clnt_tenure_mnth</th>\n",
       "      <th>clnt_age</th>\n",
       "      <th>gendr</th>\n",
       "      <th>num_accts</th>\n",
       "      <th>bal</th>\n",
       "      <th>calls_6_mnth</th>\n",
       "      <th>logons_6_mnth</th>\n",
       "      <th>visitor_id</th>\n",
       "      <th>visit_id</th>\n",
       "      <th>process_step</th>\n",
       "      <th>date_time</th>\n",
       "      <th>Variation</th>\n",
       "    </tr>\n",
       "  </thead>\n",
       "  <tbody>\n",
       "    <tr>\n",
       "      <th>12</th>\n",
       "      <td>555</td>\n",
       "      <td>3.0</td>\n",
       "      <td>46.0</td>\n",
       "      <td>29.5</td>\n",
       "      <td>U</td>\n",
       "      <td>2.0</td>\n",
       "      <td>25454.66</td>\n",
       "      <td>2.0</td>\n",
       "      <td>6.0</td>\n",
       "      <td>402506806_56087378777</td>\n",
       "      <td>637149525_38041617439_716659</td>\n",
       "      <td>5</td>\n",
       "      <td>2017-04-15 13:00:34</td>\n",
       "      <td>Test</td>\n",
       "    </tr>\n",
       "    <tr>\n",
       "      <th>13</th>\n",
       "      <td>555</td>\n",
       "      <td>3.0</td>\n",
       "      <td>46.0</td>\n",
       "      <td>29.5</td>\n",
       "      <td>U</td>\n",
       "      <td>2.0</td>\n",
       "      <td>25454.66</td>\n",
       "      <td>2.0</td>\n",
       "      <td>6.0</td>\n",
       "      <td>402506806_56087378777</td>\n",
       "      <td>637149525_38041617439_716659</td>\n",
       "      <td>4</td>\n",
       "      <td>2017-04-15 13:00:14</td>\n",
       "      <td>Test</td>\n",
       "    </tr>\n",
       "    <tr>\n",
       "      <th>14</th>\n",
       "      <td>555</td>\n",
       "      <td>3.0</td>\n",
       "      <td>46.0</td>\n",
       "      <td>29.5</td>\n",
       "      <td>U</td>\n",
       "      <td>2.0</td>\n",
       "      <td>25454.66</td>\n",
       "      <td>2.0</td>\n",
       "      <td>6.0</td>\n",
       "      <td>402506806_56087378777</td>\n",
       "      <td>637149525_38041617439_716659</td>\n",
       "      <td>3</td>\n",
       "      <td>2017-04-15 12:58:35</td>\n",
       "      <td>Test</td>\n",
       "    </tr>\n",
       "    <tr>\n",
       "      <th>15</th>\n",
       "      <td>555</td>\n",
       "      <td>3.0</td>\n",
       "      <td>46.0</td>\n",
       "      <td>29.5</td>\n",
       "      <td>U</td>\n",
       "      <td>2.0</td>\n",
       "      <td>25454.66</td>\n",
       "      <td>2.0</td>\n",
       "      <td>6.0</td>\n",
       "      <td>402506806_56087378777</td>\n",
       "      <td>637149525_38041617439_716659</td>\n",
       "      <td>2</td>\n",
       "      <td>2017-04-15 12:58:03</td>\n",
       "      <td>Test</td>\n",
       "    </tr>\n",
       "    <tr>\n",
       "      <th>16</th>\n",
       "      <td>555</td>\n",
       "      <td>3.0</td>\n",
       "      <td>46.0</td>\n",
       "      <td>29.5</td>\n",
       "      <td>U</td>\n",
       "      <td>2.0</td>\n",
       "      <td>25454.66</td>\n",
       "      <td>2.0</td>\n",
       "      <td>6.0</td>\n",
       "      <td>402506806_56087378777</td>\n",
       "      <td>637149525_38041617439_716659</td>\n",
       "      <td>1</td>\n",
       "      <td>2017-04-15 12:57:56</td>\n",
       "      <td>Test</td>\n",
       "    </tr>\n",
       "    <tr>\n",
       "      <th>...</th>\n",
       "      <td>...</td>\n",
       "      <td>...</td>\n",
       "      <td>...</td>\n",
       "      <td>...</td>\n",
       "      <td>...</td>\n",
       "      <td>...</td>\n",
       "      <td>...</td>\n",
       "      <td>...</td>\n",
       "      <td>...</td>\n",
       "      <td>...</td>\n",
       "      <td>...</td>\n",
       "      <td>...</td>\n",
       "      <td>...</td>\n",
       "      <td>...</td>\n",
       "    </tr>\n",
       "    <tr>\n",
       "      <th>755376</th>\n",
       "      <td>9999729</td>\n",
       "      <td>10.0</td>\n",
       "      <td>124.0</td>\n",
       "      <td>31.0</td>\n",
       "      <td>F</td>\n",
       "      <td>3.0</td>\n",
       "      <td>107059.74</td>\n",
       "      <td>6.0</td>\n",
       "      <td>9.0</td>\n",
       "      <td>834634258_21862004160</td>\n",
       "      <td>870243567_56915814033_814203</td>\n",
       "      <td>3</td>\n",
       "      <td>2017-05-08 16:08:40</td>\n",
       "      <td>Test</td>\n",
       "    </tr>\n",
       "    <tr>\n",
       "      <th>755377</th>\n",
       "      <td>9999729</td>\n",
       "      <td>10.0</td>\n",
       "      <td>124.0</td>\n",
       "      <td>31.0</td>\n",
       "      <td>F</td>\n",
       "      <td>3.0</td>\n",
       "      <td>107059.74</td>\n",
       "      <td>6.0</td>\n",
       "      <td>9.0</td>\n",
       "      <td>834634258_21862004160</td>\n",
       "      <td>870243567_56915814033_814203</td>\n",
       "      <td>2</td>\n",
       "      <td>2017-05-08 16:08:30</td>\n",
       "      <td>Test</td>\n",
       "    </tr>\n",
       "    <tr>\n",
       "      <th>755378</th>\n",
       "      <td>9999729</td>\n",
       "      <td>10.0</td>\n",
       "      <td>124.0</td>\n",
       "      <td>31.0</td>\n",
       "      <td>F</td>\n",
       "      <td>3.0</td>\n",
       "      <td>107059.74</td>\n",
       "      <td>6.0</td>\n",
       "      <td>9.0</td>\n",
       "      <td>834634258_21862004160</td>\n",
       "      <td>870243567_56915814033_814203</td>\n",
       "      <td>1</td>\n",
       "      <td>2017-05-08 16:08:25</td>\n",
       "      <td>Test</td>\n",
       "    </tr>\n",
       "    <tr>\n",
       "      <th>755391</th>\n",
       "      <td>9999832</td>\n",
       "      <td>23.0</td>\n",
       "      <td>281.0</td>\n",
       "      <td>49.0</td>\n",
       "      <td>F</td>\n",
       "      <td>2.0</td>\n",
       "      <td>431887.61</td>\n",
       "      <td>1.0</td>\n",
       "      <td>4.0</td>\n",
       "      <td>145538019_54444341400</td>\n",
       "      <td>472154369_16714624241_585315</td>\n",
       "      <td>2</td>\n",
       "      <td>2017-05-16 16:46:11</td>\n",
       "      <td>Test</td>\n",
       "    </tr>\n",
       "    <tr>\n",
       "      <th>755392</th>\n",
       "      <td>9999832</td>\n",
       "      <td>23.0</td>\n",
       "      <td>281.0</td>\n",
       "      <td>49.0</td>\n",
       "      <td>F</td>\n",
       "      <td>2.0</td>\n",
       "      <td>431887.61</td>\n",
       "      <td>1.0</td>\n",
       "      <td>4.0</td>\n",
       "      <td>145538019_54444341400</td>\n",
       "      <td>472154369_16714624241_585315</td>\n",
       "      <td>1</td>\n",
       "      <td>2017-05-16 16:46:03</td>\n",
       "      <td>Test</td>\n",
       "    </tr>\n",
       "  </tbody>\n",
       "</table>\n",
       "<p>321309 rows × 14 columns</p>\n",
       "</div>"
      ],
      "text/plain": [
       "        client_id  clnt_tenure_yr  clnt_tenure_mnth  clnt_age gendr  \\\n",
       "12            555             3.0              46.0      29.5     U   \n",
       "13            555             3.0              46.0      29.5     U   \n",
       "14            555             3.0              46.0      29.5     U   \n",
       "15            555             3.0              46.0      29.5     U   \n",
       "16            555             3.0              46.0      29.5     U   \n",
       "...           ...             ...               ...       ...   ...   \n",
       "755376    9999729            10.0             124.0      31.0     F   \n",
       "755377    9999729            10.0             124.0      31.0     F   \n",
       "755378    9999729            10.0             124.0      31.0     F   \n",
       "755391    9999832            23.0             281.0      49.0     F   \n",
       "755392    9999832            23.0             281.0      49.0     F   \n",
       "\n",
       "        num_accts        bal  calls_6_mnth  logons_6_mnth  \\\n",
       "12            2.0   25454.66           2.0            6.0   \n",
       "13            2.0   25454.66           2.0            6.0   \n",
       "14            2.0   25454.66           2.0            6.0   \n",
       "15            2.0   25454.66           2.0            6.0   \n",
       "16            2.0   25454.66           2.0            6.0   \n",
       "...           ...        ...           ...            ...   \n",
       "755376        3.0  107059.74           6.0            9.0   \n",
       "755377        3.0  107059.74           6.0            9.0   \n",
       "755378        3.0  107059.74           6.0            9.0   \n",
       "755391        2.0  431887.61           1.0            4.0   \n",
       "755392        2.0  431887.61           1.0            4.0   \n",
       "\n",
       "                   visitor_id                      visit_id  process_step  \\\n",
       "12      402506806_56087378777  637149525_38041617439_716659             5   \n",
       "13      402506806_56087378777  637149525_38041617439_716659             4   \n",
       "14      402506806_56087378777  637149525_38041617439_716659             3   \n",
       "15      402506806_56087378777  637149525_38041617439_716659             2   \n",
       "16      402506806_56087378777  637149525_38041617439_716659             1   \n",
       "...                       ...                           ...           ...   \n",
       "755376  834634258_21862004160  870243567_56915814033_814203             3   \n",
       "755377  834634258_21862004160  870243567_56915814033_814203             2   \n",
       "755378  834634258_21862004160  870243567_56915814033_814203             1   \n",
       "755391  145538019_54444341400  472154369_16714624241_585315             2   \n",
       "755392  145538019_54444341400  472154369_16714624241_585315             1   \n",
       "\n",
       "                  date_time Variation  \n",
       "12      2017-04-15 13:00:34      Test  \n",
       "13      2017-04-15 13:00:14      Test  \n",
       "14      2017-04-15 12:58:35      Test  \n",
       "15      2017-04-15 12:58:03      Test  \n",
       "16      2017-04-15 12:57:56      Test  \n",
       "...                     ...       ...  \n",
       "755376  2017-05-08 16:08:40      Test  \n",
       "755377  2017-05-08 16:08:30      Test  \n",
       "755378  2017-05-08 16:08:25      Test  \n",
       "755391  2017-05-16 16:46:11      Test  \n",
       "755392  2017-05-16 16:46:03      Test  \n",
       "\n",
       "[321309 rows x 14 columns]"
      ]
     },
     "execution_count": 43,
     "metadata": {},
     "output_type": "execute_result"
    }
   ],
   "source": [
    "# Mapping dictionary\n",
    "mapping = {'start': 1, 'step_1': 2, 'step_2': 3, 'step_3': 4, 'confirm': 5 }\n",
    "formatted_df = cleaned_df.copy()\n",
    "formatted_df['process_step']= cleaned_df['process_step'].map(mapping)\n",
    "\n",
    "formatted_df"
   ]
  },
  {
   "cell_type": "code",
   "execution_count": 44,
   "id": "a7ee54a5-93b6-4a3e-87c9-935c544fef67",
   "metadata": {},
   "outputs": [
    {
     "data": {
      "text/html": [
       "<div>\n",
       "<style scoped>\n",
       "    .dataframe tbody tr th:only-of-type {\n",
       "        vertical-align: middle;\n",
       "    }\n",
       "\n",
       "    .dataframe tbody tr th {\n",
       "        vertical-align: top;\n",
       "    }\n",
       "\n",
       "    .dataframe thead th {\n",
       "        text-align: right;\n",
       "    }\n",
       "</style>\n",
       "<table border=\"1\" class=\"dataframe\">\n",
       "  <thead>\n",
       "    <tr style=\"text-align: right;\">\n",
       "      <th></th>\n",
       "      <th>clnt_tenure_yr</th>\n",
       "      <th>clnt_age</th>\n",
       "      <th>num_accts</th>\n",
       "      <th>bal</th>\n",
       "      <th>calls_6_mnth</th>\n",
       "      <th>logons_6_mnth</th>\n",
       "    </tr>\n",
       "  </thead>\n",
       "  <tbody>\n",
       "    <tr>\n",
       "      <th>12</th>\n",
       "      <td>3.0</td>\n",
       "      <td>29.5</td>\n",
       "      <td>2.0</td>\n",
       "      <td>25454.66</td>\n",
       "      <td>2.0</td>\n",
       "      <td>6.0</td>\n",
       "    </tr>\n",
       "    <tr>\n",
       "      <th>13</th>\n",
       "      <td>3.0</td>\n",
       "      <td>29.5</td>\n",
       "      <td>2.0</td>\n",
       "      <td>25454.66</td>\n",
       "      <td>2.0</td>\n",
       "      <td>6.0</td>\n",
       "    </tr>\n",
       "    <tr>\n",
       "      <th>14</th>\n",
       "      <td>3.0</td>\n",
       "      <td>29.5</td>\n",
       "      <td>2.0</td>\n",
       "      <td>25454.66</td>\n",
       "      <td>2.0</td>\n",
       "      <td>6.0</td>\n",
       "    </tr>\n",
       "    <tr>\n",
       "      <th>15</th>\n",
       "      <td>3.0</td>\n",
       "      <td>29.5</td>\n",
       "      <td>2.0</td>\n",
       "      <td>25454.66</td>\n",
       "      <td>2.0</td>\n",
       "      <td>6.0</td>\n",
       "    </tr>\n",
       "    <tr>\n",
       "      <th>16</th>\n",
       "      <td>3.0</td>\n",
       "      <td>29.5</td>\n",
       "      <td>2.0</td>\n",
       "      <td>25454.66</td>\n",
       "      <td>2.0</td>\n",
       "      <td>6.0</td>\n",
       "    </tr>\n",
       "    <tr>\n",
       "      <th>...</th>\n",
       "      <td>...</td>\n",
       "      <td>...</td>\n",
       "      <td>...</td>\n",
       "      <td>...</td>\n",
       "      <td>...</td>\n",
       "      <td>...</td>\n",
       "    </tr>\n",
       "    <tr>\n",
       "      <th>755376</th>\n",
       "      <td>10.0</td>\n",
       "      <td>31.0</td>\n",
       "      <td>3.0</td>\n",
       "      <td>107059.74</td>\n",
       "      <td>6.0</td>\n",
       "      <td>9.0</td>\n",
       "    </tr>\n",
       "    <tr>\n",
       "      <th>755377</th>\n",
       "      <td>10.0</td>\n",
       "      <td>31.0</td>\n",
       "      <td>3.0</td>\n",
       "      <td>107059.74</td>\n",
       "      <td>6.0</td>\n",
       "      <td>9.0</td>\n",
       "    </tr>\n",
       "    <tr>\n",
       "      <th>755378</th>\n",
       "      <td>10.0</td>\n",
       "      <td>31.0</td>\n",
       "      <td>3.0</td>\n",
       "      <td>107059.74</td>\n",
       "      <td>6.0</td>\n",
       "      <td>9.0</td>\n",
       "    </tr>\n",
       "    <tr>\n",
       "      <th>755391</th>\n",
       "      <td>23.0</td>\n",
       "      <td>49.0</td>\n",
       "      <td>2.0</td>\n",
       "      <td>431887.61</td>\n",
       "      <td>1.0</td>\n",
       "      <td>4.0</td>\n",
       "    </tr>\n",
       "    <tr>\n",
       "      <th>755392</th>\n",
       "      <td>23.0</td>\n",
       "      <td>49.0</td>\n",
       "      <td>2.0</td>\n",
       "      <td>431887.61</td>\n",
       "      <td>1.0</td>\n",
       "      <td>4.0</td>\n",
       "    </tr>\n",
       "  </tbody>\n",
       "</table>\n",
       "<p>321309 rows × 6 columns</p>\n",
       "</div>"
      ],
      "text/plain": [
       "        clnt_tenure_yr  clnt_age  num_accts        bal  calls_6_mnth  \\\n",
       "12                 3.0      29.5        2.0   25454.66           2.0   \n",
       "13                 3.0      29.5        2.0   25454.66           2.0   \n",
       "14                 3.0      29.5        2.0   25454.66           2.0   \n",
       "15                 3.0      29.5        2.0   25454.66           2.0   \n",
       "16                 3.0      29.5        2.0   25454.66           2.0   \n",
       "...                ...       ...        ...        ...           ...   \n",
       "755376            10.0      31.0        3.0  107059.74           6.0   \n",
       "755377            10.0      31.0        3.0  107059.74           6.0   \n",
       "755378            10.0      31.0        3.0  107059.74           6.0   \n",
       "755391            23.0      49.0        2.0  431887.61           1.0   \n",
       "755392            23.0      49.0        2.0  431887.61           1.0   \n",
       "\n",
       "        logons_6_mnth  \n",
       "12                6.0  \n",
       "13                6.0  \n",
       "14                6.0  \n",
       "15                6.0  \n",
       "16                6.0  \n",
       "...               ...  \n",
       "755376            9.0  \n",
       "755377            9.0  \n",
       "755378            9.0  \n",
       "755391            4.0  \n",
       "755392            4.0  \n",
       "\n",
       "[321309 rows x 6 columns]"
      ]
     },
     "execution_count": 44,
     "metadata": {},
     "output_type": "execute_result"
    }
   ],
   "source": [
    "# Numerical values for correlaction matrix\n",
    "df_numerical = formatted_df.drop(['client_id', 'clnt_tenure_mnth','gendr','visit_id', 'visitor_id','Variation', 'process_step', 'date_time'], axis=1)\n",
    "df_numerical"
   ]
  },
  {
   "cell_type": "code",
   "execution_count": 45,
   "id": "9b1a9b48-a289-4f34-abf3-b6ca844472e1",
   "metadata": {},
   "outputs": [
    {
     "data": {
      "image/png": "[encoded data removed]",
      "text/plain": [
       "<Figure size 800x600 with 2 Axes>"
      ]
     },
     "metadata": {},
     "output_type": "display_data"
    }
   ],
   "source": [
    "correlation_matrix = df_numerical.corr()\n",
    "# Setting up the matplotlib figure with an appropriate size\n",
    "plt.figure(figsize=(8, 6))\n",
    "\n",
    "# Drawing the heatmap for the numerical columns\n",
    "sns.heatmap(correlation_matrix, annot=True, cmap=\"coolwarm\")\n",
    "\n",
    "plt.title(\"Correlation Heatmap for Selected Numerical Variables\")\n",
    "plt.show()"
   ]
  },
  {
   "cell_type": "code",
   "execution_count": 46,
   "id": "f7f1d0d7-7ced-42ee-aefa-f85afa12f972",
   "metadata": {},
   "outputs": [
    {
     "data": {
      "text/plain": [
       "process_step\n",
       "start      50076\n",
       "step_1     44419\n",
       "step_2     40908\n",
       "step_3     38303\n",
       "confirm    34121\n",
       "Name: client_id, dtype: int64"
      ]
     },
     "execution_count": 46,
     "metadata": {},
     "output_type": "execute_result"
    }
   ],
   "source": [
    "completion_stage_sorted = cleaned_df.drop(['clnt_tenure_mnth','gendr','visit_id', 'visitor_id','Variation', 'clnt_tenure_yr',\t'clnt_age',\t'num_accts', 'bal',\t'calls_6_mnth', \t'logons_6_mnth', 'date_time'], axis=1)\n",
    "completion_stage_sorted = cleaned_df.groupby('process_step')['client_id'].nunique()\n",
    "completion_stage_sorted = completion_stage_sorted.sort_values(ascending=False)\n",
    "completion_stage_sorted "
   ]
  },
  {
   "cell_type": "code",
   "execution_count": 47,
   "id": "6b9aeeb3-fa60-4297-a0f2-2c39355a6565",
   "metadata": {},
   "outputs": [
    {
     "name": "stderr",
     "output_type": "stream",
     "text": [
      "/var/folders/tk/l3rys1j13d714cd0mx1y2mn00000gn/T/ipykernel_35609/2005847610.py:2: FutureWarning: \n",
      "\n",
      "Passing `palette` without assigning `hue` is deprecated and will be removed in v0.14.0. Assign the `x` variable to `hue` and set `legend=False` for the same effect.\n",
      "\n",
      "  sns.barplot(x=completion_stage_sorted.index, y=completion_stage_sorted.values, palette='Blues')\n"
     ]
    },
    {
     "data": {
      "image/png": "[encoded data removed]",
      "text/plain": [
       "<Figure size 1000x600 with 1 Axes>"
      ]
     },
     "metadata": {},
     "output_type": "display_data"
    }
   ],
   "source": [
    "plt.figure(figsize=(10, 6))\n",
    "sns.barplot(x=completion_stage_sorted.index, y=completion_stage_sorted.values, palette='Blues')\n",
    "plt.title('Number of  Clients by Process Step')\n",
    "plt.xlabel('Process Step')\n",
    "plt.ylabel('Number of  Clients')\n",
    "plt.xticks(rotation=45)\n",
    "plt.tight_layout()\n",
    "plt.show()"
   ]
  },
  {
   "cell_type": "code",
   "execution_count": 48,
   "id": "33248dae-3f3a-4cef-afff-3c7568644293",
   "metadata": {},
   "outputs": [
    {
     "name": "stdout",
     "output_type": "stream",
     "text": [
      "Start bounce rate: 11.3 %\n"
     ]
    }
   ],
   "source": [
    "# Start Bounce Rate\n",
    "# Number of visitors who left after the first step/Total visitors to the first step\n",
    "start_bounce_rate = (completion_stage_sorted['start'] - completion_stage_sorted['step_1']) / completion_stage_sorted['start']*100\n",
    "print ('Start bounce rate:', start_bounce_rate.round(1)\n",
    ", '%')\n",
    " "
   ]
  },
  {
   "cell_type": "code",
   "execution_count": 49,
   "id": "a5605279-dac4-4dbf-9ce7-39c5c4e941f3",
   "metadata": {},
   "outputs": [
    {
     "name": "stdout",
     "output_type": "stream",
     "text": [
      "First step bounce rate: 7.9 %\n"
     ]
    }
   ],
   "source": [
    "# First Step Bounce Rate\n",
    "# Number of visitors who left after the first step/Total visitors to the first step\n",
    "first_step_bounce_rate = (completion_stage_sorted['step_1'] - completion_stage_sorted['step_2']) / completion_stage_sorted['step_1']*100\n",
    "first_step_bounce_rate.round(2)\n",
    "print( 'First step bounce rate:', first_step_bounce_rate.round(1)\n",
    ", '%')"
   ]
  },
  {
   "cell_type": "code",
   "execution_count": 50,
   "id": "7324d3fb-6429-4221-95ba-aa7d6a508337",
   "metadata": {},
   "outputs": [
    {
     "name": "stdout",
     "output_type": "stream",
     "text": [
      "Second step bounce rate: 6.4 %\n"
     ]
    }
   ],
   "source": [
    "# Second Step Bounce Rate\n",
    "# Number of visitors who left after the second step/Total visitors to the second step\n",
    "second_step_bounce_rate = (completion_stage_sorted['step_2'] - completion_stage_sorted['step_3']) / completion_stage_sorted['step_2']*100\n",
    "second_step_bounce_rate.round(2)\n",
    "print( 'Second step bounce rate:', second_step_bounce_rate.round(1)\n",
    ", '%')"
   ]
  },
  {
   "cell_type": "code",
   "execution_count": 51,
   "id": "e815966e-7f5e-473d-8a57-26002e004f0d",
   "metadata": {},
   "outputs": [
    {
     "name": "stdout",
     "output_type": "stream",
     "text": [
      "Third step bounce rate: 10.9 %\n"
     ]
    }
   ],
   "source": [
    "# Third Step Bounce Rate\n",
    "# Number of visitors who left after the third step/Total visitors to the third step\n",
    "third_step_bounce_rate = (completion_stage_sorted['step_3'] - completion_stage_sorted['confirm']) / completion_stage_sorted['step_3']*100\n",
    "third_step_bounce_rate.round(1)\n",
    "print( 'Third step bounce rate:', third_step_bounce_rate.round(1), '%')"
   ]
  },
  {
   "cell_type": "code",
   "execution_count": 52,
   "id": "279dc87f-1873-4753-9832-144b72d931e7",
   "metadata": {},
   "outputs": [
    {
     "name": "stdout",
     "output_type": "stream",
     "text": [
      "Completion Rate: 68.14%\n"
     ]
    }
   ],
   "source": [
    "#Completion rate\n",
    "started = cleaned_df[cleaned_df['process_step'] == 'start']['client_id'].nunique()\n",
    "confirmed = cleaned_df[cleaned_df['process_step'] == 'confirm']['client_id'].nunique()\n",
    "\n",
    "# Calculate the completion rate\n",
    "completion_rate = (confirmed / started) * 100\n",
    "\n",
    "# Display the completion rate\n",
    "print(f\"Completion Rate: {completion_rate:.2f}%\")"
   ]
  },
  {
   "cell_type": "code",
   "execution_count": 53,
   "id": "d08da7a6-b236-41ac-b665-ebe7f70c137e",
   "metadata": {},
   "outputs": [
    {
     "data": {
      "text/plain": [
       "process_step\n",
       "start      104082\n",
       "step_1      68436\n",
       "step_2      56875\n",
       "step_3      48689\n",
       "confirm     43227\n",
       "Name: count, dtype: int64"
      ]
     },
     "execution_count": 53,
     "metadata": {},
     "output_type": "execute_result"
    }
   ],
   "source": [
    "total_counts = cleaned_df['process_step'].value_counts()\n",
    "total_counts"
   ]
  },
  {
   "cell_type": "code",
   "execution_count": 54,
   "id": "3bce0f58-fda6-4668-8e9d-6d0c9f26c723",
   "metadata": {},
   "outputs": [],
   "source": [
    "cleaned_df = cleaned_df.dropna()"
   ]
  },
  {
   "cell_type": "code",
   "execution_count": 55,
   "id": "02a89398-7434-4991-ba71-dcb2258e3637",
   "metadata": {
    "scrolled": true
   },
   "outputs": [
    {
     "data": {
      "text/html": [
       "<div>\n",
       "<style scoped>\n",
       "    .dataframe tbody tr th:only-of-type {\n",
       "        vertical-align: middle;\n",
       "    }\n",
       "\n",
       "    .dataframe tbody tr th {\n",
       "        vertical-align: top;\n",
       "    }\n",
       "\n",
       "    .dataframe thead th {\n",
       "        text-align: right;\n",
       "    }\n",
       "</style>\n",
       "<table border=\"1\" class=\"dataframe\">\n",
       "  <thead>\n",
       "    <tr style=\"text-align: right;\">\n",
       "      <th></th>\n",
       "      <th>client_id</th>\n",
       "      <th>clnt_tenure_yr</th>\n",
       "      <th>clnt_tenure_mnth</th>\n",
       "      <th>clnt_age</th>\n",
       "      <th>num_accts</th>\n",
       "      <th>bal</th>\n",
       "      <th>calls_6_mnth</th>\n",
       "      <th>logons_6_mnth</th>\n",
       "    </tr>\n",
       "  </thead>\n",
       "  <tbody>\n",
       "    <tr>\n",
       "      <th>count</th>\n",
       "      <td>321195.0</td>\n",
       "      <td>321195.0</td>\n",
       "      <td>321195.0</td>\n",
       "      <td>321195.0</td>\n",
       "      <td>321195.0</td>\n",
       "      <td>321195.0</td>\n",
       "      <td>321195.0</td>\n",
       "      <td>321195.0</td>\n",
       "    </tr>\n",
       "    <tr>\n",
       "      <th>mean</th>\n",
       "      <td>5009766.0</td>\n",
       "      <td>12.0</td>\n",
       "      <td>152.0</td>\n",
       "      <td>49.0</td>\n",
       "      <td>2.0</td>\n",
       "      <td>162214.0</td>\n",
       "      <td>3.0</td>\n",
       "      <td>6.0</td>\n",
       "    </tr>\n",
       "    <tr>\n",
       "      <th>std</th>\n",
       "      <td>2872653.0</td>\n",
       "      <td>7.0</td>\n",
       "      <td>83.0</td>\n",
       "      <td>16.0</td>\n",
       "      <td>1.0</td>\n",
       "      <td>349478.0</td>\n",
       "      <td>2.0</td>\n",
       "      <td>2.0</td>\n",
       "    </tr>\n",
       "    <tr>\n",
       "      <th>min</th>\n",
       "      <td>555.0</td>\n",
       "      <td>2.0</td>\n",
       "      <td>33.0</td>\n",
       "      <td>17.0</td>\n",
       "      <td>1.0</td>\n",
       "      <td>23789.0</td>\n",
       "      <td>0.0</td>\n",
       "      <td>3.0</td>\n",
       "    </tr>\n",
       "    <tr>\n",
       "      <th>25%</th>\n",
       "      <td>2514553.0</td>\n",
       "      <td>6.0</td>\n",
       "      <td>82.0</td>\n",
       "      <td>34.0</td>\n",
       "      <td>2.0</td>\n",
       "      <td>41059.0</td>\n",
       "      <td>1.0</td>\n",
       "      <td>4.0</td>\n",
       "    </tr>\n",
       "    <tr>\n",
       "      <th>50%</th>\n",
       "      <td>5051667.0</td>\n",
       "      <td>11.0</td>\n",
       "      <td>138.0</td>\n",
       "      <td>50.0</td>\n",
       "      <td>2.0</td>\n",
       "      <td>69242.0</td>\n",
       "      <td>3.0</td>\n",
       "      <td>6.0</td>\n",
       "    </tr>\n",
       "    <tr>\n",
       "      <th>75%</th>\n",
       "      <td>7468390.0</td>\n",
       "      <td>16.0</td>\n",
       "      <td>193.0</td>\n",
       "      <td>61.0</td>\n",
       "      <td>2.0</td>\n",
       "      <td>151493.0</td>\n",
       "      <td>6.0</td>\n",
       "      <td>9.0</td>\n",
       "    </tr>\n",
       "    <tr>\n",
       "      <th>max</th>\n",
       "      <td>9999832.0</td>\n",
       "      <td>55.0</td>\n",
       "      <td>669.0</td>\n",
       "      <td>96.0</td>\n",
       "      <td>7.0</td>\n",
       "      <td>16320040.0</td>\n",
       "      <td>6.0</td>\n",
       "      <td>9.0</td>\n",
       "    </tr>\n",
       "  </tbody>\n",
       "</table>\n",
       "</div>"
      ],
      "text/plain": [
       "       client_id  clnt_tenure_yr  clnt_tenure_mnth  clnt_age  num_accts  \\\n",
       "count   321195.0        321195.0          321195.0  321195.0   321195.0   \n",
       "mean   5009766.0            12.0             152.0      49.0        2.0   \n",
       "std    2872653.0             7.0              83.0      16.0        1.0   \n",
       "min        555.0             2.0              33.0      17.0        1.0   \n",
       "25%    2514553.0             6.0              82.0      34.0        2.0   \n",
       "50%    5051667.0            11.0             138.0      50.0        2.0   \n",
       "75%    7468390.0            16.0             193.0      61.0        2.0   \n",
       "max    9999832.0            55.0             669.0      96.0        7.0   \n",
       "\n",
       "              bal  calls_6_mnth  logons_6_mnth  \n",
       "count    321195.0      321195.0       321195.0  \n",
       "mean     162214.0           3.0            6.0  \n",
       "std      349478.0           2.0            2.0  \n",
       "min       23789.0           0.0            3.0  \n",
       "25%       41059.0           1.0            4.0  \n",
       "50%       69242.0           3.0            6.0  \n",
       "75%      151493.0           6.0            9.0  \n",
       "max    16320040.0           6.0            9.0  "
      ]
     },
     "execution_count": 55,
     "metadata": {},
     "output_type": "execute_result"
    }
   ],
   "source": [
    "cleaned_df.describe().round()"
   ]
  },
  {
   "cell_type": "code",
   "execution_count": 56,
   "id": "2a749b67-c0d6-4942-883b-fb4e9ca53d4b",
   "metadata": {},
   "outputs": [
    {
     "name": "stdout",
     "output_type": "stream",
     "text": [
      "  process_step  error_rate\n",
      "0      confirm   25.292729\n",
      "1        start   25.036284\n",
      "2       step_1   25.060664\n",
      "3       step_2   25.364524\n",
      "4       step_3   25.294299\n"
     ]
    }
   ],
   "source": [
    "\n",
    "step_order = ['start', 'step_1', 'step_2', 'step_3', 'confirm']\n",
    "\n",
    "total_counts = cleaned_df['process_step'].value_counts()\n",
    "\n",
    "error_counts = []\n",
    "\n",
    "# Initialize previous step\n",
    "previous_step = None\n",
    "\n",
    "for step in cleaned_df['process_step']:\n",
    "    if previous_step is not None:\n",
    "        if step in step_order and previous_step in step_order:\n",
    "            # Count an error if the current step is before the previous step in the order\n",
    "            error_counts.append(int(step_order.index(step) < step_order.index(previous_step)))\n",
    "        else:\n",
    "            error_counts.append(0)  \n",
    "    else:\n",
    "        error_counts.append(0)  \n",
    "    previous_step = step  # Update previous step\n",
    "\n",
    "error_counts_series = pd.Series(error_counts)\n",
    "\n",
    "# Group by the process steps, filtering out any steps that don't have errors\n",
    "error_counts_grouped = error_counts_series.groupby(cleaned_df['process_step']).sum()\n",
    "\n",
    "error_rates = (error_counts_grouped / total_counts) * 100\n",
    "\n",
    "error_rates_df = error_rates.reset_index(name='error_rate')\n",
    "print(error_rates_df)"
   ]
  },
  {
   "cell_type": "code",
   "execution_count": 57,
   "id": "47e84fd8-2570-4d7e-b7b9-41890d7d48bc",
   "metadata": {},
   "outputs": [
    {
     "data": {
      "text/plain": [
       "process_step\n",
       "confirm    25.292729\n",
       "start      25.036284\n",
       "step_1     25.060664\n",
       "step_2     25.364524\n",
       "step_3     25.294299\n",
       "dtype: float64"
      ]
     },
     "execution_count": 57,
     "metadata": {},
     "output_type": "execute_result"
    }
   ],
   "source": [
    "step_order = ['start', 'step_1', 'step_2', 'step_3', 'confirm']\n",
    "\n",
    "total_counts = cleaned_df['process_step'].value_counts()\n",
    "\n",
    "error_counts = []\n",
    "\n",
    "for idx, step in enumerate(cleaned_df['process_step']):\n",
    "    if idx > 0: \n",
    "        previous_step = cleaned_df['process_step'].iloc[idx - 1]\n",
    "        if step in step_order and previous_step in step_order:\n",
    "            error_counts.append(int(step_order.index(step) < step_order.index(previous_step)))\n",
    "        else:\n",
    "            error_counts.append(0)  \n",
    "    else:\n",
    "        error_counts.append(0)  \n",
    "\n",
    "error_counts_series = pd.Series(error_counts)\n",
    "\n",
    "error_counts_grouped = error_counts_series.groupby(cleaned_df['process_step']).sum().fillna(0)\n",
    "\n",
    "error_rates = (error_counts_grouped / total_counts) * 100\n",
    "\n",
    "error_rates\n"
   ]
  },
  {
   "cell_type": "code",
   "execution_count": 58,
   "id": "d6f7f80c-36ee-4484-bd22-a3c424b9357e",
   "metadata": {
    "scrolled": true
   },
   "outputs": [
    {
     "data": {
      "text/plain": [
       "process_step\n",
       "start      104041\n",
       "step_1      68410\n",
       "step_2      56855\n",
       "step_3      48675\n",
       "confirm     43214\n",
       "Name: count, dtype: int64"
      ]
     },
     "execution_count": 58,
     "metadata": {},
     "output_type": "execute_result"
    }
   ],
   "source": [
    "# total frequency of each step for all clients\n",
    "total_counts = cleaned_df['process_step'].value_counts()\n",
    "total_counts"
   ]
  },
  {
   "cell_type": "code",
   "execution_count": 59,
   "id": "46c796c1-dc80-4391-854c-18135e4de7e6",
   "metadata": {},
   "outputs": [
    {
     "data": {
      "text/plain": [
       "321195"
      ]
     },
     "execution_count": 59,
     "metadata": {},
     "output_type": "execute_result"
    }
   ],
   "source": [
    "total_counts.sum()"
   ]
  },
  {
   "cell_type": "code",
   "execution_count": 60,
   "id": "ccdea008-c770-490f-93b8-c61e9a906ca5",
   "metadata": {
    "scrolled": true
   },
   "outputs": [
    {
     "data": {
      "text/plain": [
       "Variation  process_step\n",
       "Control    start           47589\n",
       "           step_1          29657\n",
       "           step_2          25877\n",
       "           step_3          22787\n",
       "           confirm         17498\n",
       "Test       start           56452\n",
       "           step_1          38753\n",
       "           step_2          30978\n",
       "           step_3          25888\n",
       "           confirm         25716\n",
       "Name: count, dtype: int64"
      ]
     },
     "execution_count": 60,
     "metadata": {},
     "output_type": "execute_result"
    }
   ],
   "source": [
    "# total frequency of each step total by control/test \n",
    "process_step_frequency_total = cleaned_df.groupby(['Variation'])['process_step'].value_counts()\n",
    "process_step_frequency_total "
   ]
  },
  {
   "cell_type": "code",
   "execution_count": 61,
   "id": "01dafd9f-4656-458e-9962-732c1ad73613",
   "metadata": {},
   "outputs": [
    {
     "data": {
      "text/plain": [
       "321195"
      ]
     },
     "execution_count": 61,
     "metadata": {},
     "output_type": "execute_result"
    }
   ],
   "source": [
    "process_step_frequency_total.sum()"
   ]
  },
  {
   "cell_type": "code",
   "execution_count": 62,
   "id": "556a05dd-97d6-4866-8963-9745daa4301d",
   "metadata": {
    "scrolled": true
   },
   "outputs": [
    {
     "data": {
      "text/plain": [
       "process_step\n",
       "start      50063\n",
       "step_1     44406\n",
       "step_2     40896\n",
       "step_3     38292\n",
       "confirm    34110\n",
       "Name: client_id, dtype: int64"
      ]
     },
     "execution_count": 62,
     "metadata": {},
     "output_type": "execute_result"
    }
   ],
   "source": [
    "# Unique frequency for each step for all clients\n",
    "process_step_frequency_unique = cleaned_df.groupby('process_step')['client_id'].nunique()\n",
    "process_step_frequency_unique.sort_values(ascending=False)"
   ]
  },
  {
   "cell_type": "code",
   "execution_count": 63,
   "id": "012f990f-fc8a-48a1-8476-f55f48aaf569",
   "metadata": {},
   "outputs": [
    {
     "data": {
      "text/plain": [
       "207767"
      ]
     },
     "execution_count": 63,
     "metadata": {},
     "output_type": "execute_result"
    }
   ],
   "source": [
    "process_step_frequency_unique.sum()"
   ]
  },
  {
   "cell_type": "code",
   "execution_count": 64,
   "id": "ae00185f-3f7d-41e8-b900-e0db42a71118",
   "metadata": {
    "scrolled": true
   },
   "outputs": [
    {
     "data": {
      "text/html": [
       "<div>\n",
       "<style scoped>\n",
       "    .dataframe tbody tr th:only-of-type {\n",
       "        vertical-align: middle;\n",
       "    }\n",
       "\n",
       "    .dataframe tbody tr th {\n",
       "        vertical-align: top;\n",
       "    }\n",
       "\n",
       "    .dataframe thead th {\n",
       "        text-align: right;\n",
       "    }\n",
       "</style>\n",
       "<table border=\"1\" class=\"dataframe\">\n",
       "  <thead>\n",
       "    <tr style=\"text-align: right;\">\n",
       "      <th></th>\n",
       "      <th></th>\n",
       "      <th>client_id</th>\n",
       "    </tr>\n",
       "    <tr>\n",
       "      <th>Variation</th>\n",
       "      <th>process_step</th>\n",
       "      <th></th>\n",
       "    </tr>\n",
       "  </thead>\n",
       "  <tbody>\n",
       "    <tr>\n",
       "      <th rowspan=\"5\" valign=\"top\">Test</th>\n",
       "      <th>start</th>\n",
       "      <td>26672</td>\n",
       "    </tr>\n",
       "    <tr>\n",
       "      <th>step_1</th>\n",
       "      <td>24260</td>\n",
       "    </tr>\n",
       "    <tr>\n",
       "      <th>step_2</th>\n",
       "      <td>22252</td>\n",
       "    </tr>\n",
       "    <tr>\n",
       "      <th>step_3</th>\n",
       "      <td>20876</td>\n",
       "    </tr>\n",
       "    <tr>\n",
       "      <th>confirm</th>\n",
       "      <td>18682</td>\n",
       "    </tr>\n",
       "    <tr>\n",
       "      <th rowspan=\"5\" valign=\"top\">Control</th>\n",
       "      <th>start</th>\n",
       "      <td>23391</td>\n",
       "    </tr>\n",
       "    <tr>\n",
       "      <th>step_1</th>\n",
       "      <td>20146</td>\n",
       "    </tr>\n",
       "    <tr>\n",
       "      <th>step_2</th>\n",
       "      <td>18644</td>\n",
       "    </tr>\n",
       "    <tr>\n",
       "      <th>step_3</th>\n",
       "      <td>17416</td>\n",
       "    </tr>\n",
       "    <tr>\n",
       "      <th>confirm</th>\n",
       "      <td>15428</td>\n",
       "    </tr>\n",
       "  </tbody>\n",
       "</table>\n",
       "</div>"
      ],
      "text/plain": [
       "                        client_id\n",
       "Variation process_step           \n",
       "Test      start             26672\n",
       "          step_1            24260\n",
       "          step_2            22252\n",
       "          step_3            20876\n",
       "          confirm           18682\n",
       "Control   start             23391\n",
       "          step_1            20146\n",
       "          step_2            18644\n",
       "          step_3            17416\n",
       "          confirm           15428"
      ]
     },
     "execution_count": 64,
     "metadata": {},
     "output_type": "execute_result"
    }
   ],
   "source": [
    "# Unique frequency for each step for all clients by Control/Test \n",
    "process_step_variation = cleaned_df.groupby(['Variation','process_step'])['client_id'].nunique() \n",
    "process_step_sorted_variation = pd.DataFrame(process_step_variation).sort_values(by=['Variation','client_id'], ascending = False)\n",
    "process_step_sorted_variation"
   ]
  },
  {
   "cell_type": "code",
   "execution_count": 65,
   "id": "d3b1cf6b-8a39-4438-a6a8-f6f151836614",
   "metadata": {},
   "outputs": [
    {
     "data": {
      "text/plain": [
       "client_id    207767\n",
       "dtype: int64"
      ]
     },
     "execution_count": 65,
     "metadata": {},
     "output_type": "execute_result"
    }
   ],
   "source": [
    "process_step_sorted_variation.sum()"
   ]
  },
  {
   "cell_type": "code",
   "execution_count": 66,
   "id": "b70ca245-ef97-4e39-b110-c4dc51c40fab",
   "metadata": {},
   "outputs": [
    {
     "data": {
      "text/html": [
       "<div>\n",
       "<style scoped>\n",
       "    .dataframe tbody tr th:only-of-type {\n",
       "        vertical-align: middle;\n",
       "    }\n",
       "\n",
       "    .dataframe tbody tr th {\n",
       "        vertical-align: top;\n",
       "    }\n",
       "\n",
       "    .dataframe thead th {\n",
       "        text-align: right;\n",
       "    }\n",
       "</style>\n",
       "<table border=\"1\" class=\"dataframe\">\n",
       "  <thead>\n",
       "    <tr style=\"text-align: right;\">\n",
       "      <th></th>\n",
       "      <th></th>\n",
       "      <th>count</th>\n",
       "      <th>client_id</th>\n",
       "      <th>unique_frequency as % total</th>\n",
       "    </tr>\n",
       "    <tr>\n",
       "      <th>Variation</th>\n",
       "      <th>process_step</th>\n",
       "      <th></th>\n",
       "      <th></th>\n",
       "      <th></th>\n",
       "    </tr>\n",
       "  </thead>\n",
       "  <tbody>\n",
       "    <tr>\n",
       "      <th rowspan=\"5\" valign=\"top\">Control</th>\n",
       "      <th>start</th>\n",
       "      <td>47589</td>\n",
       "      <td>23391</td>\n",
       "      <td>0.49</td>\n",
       "    </tr>\n",
       "    <tr>\n",
       "      <th>step_1</th>\n",
       "      <td>29657</td>\n",
       "      <td>20146</td>\n",
       "      <td>0.68</td>\n",
       "    </tr>\n",
       "    <tr>\n",
       "      <th>step_2</th>\n",
       "      <td>25877</td>\n",
       "      <td>18644</td>\n",
       "      <td>0.72</td>\n",
       "    </tr>\n",
       "    <tr>\n",
       "      <th>step_3</th>\n",
       "      <td>22787</td>\n",
       "      <td>17416</td>\n",
       "      <td>0.76</td>\n",
       "    </tr>\n",
       "    <tr>\n",
       "      <th>confirm</th>\n",
       "      <td>17498</td>\n",
       "      <td>15428</td>\n",
       "      <td>0.88</td>\n",
       "    </tr>\n",
       "    <tr>\n",
       "      <th rowspan=\"5\" valign=\"top\">Test</th>\n",
       "      <th>start</th>\n",
       "      <td>56452</td>\n",
       "      <td>26672</td>\n",
       "      <td>0.47</td>\n",
       "    </tr>\n",
       "    <tr>\n",
       "      <th>step_1</th>\n",
       "      <td>38753</td>\n",
       "      <td>24260</td>\n",
       "      <td>0.63</td>\n",
       "    </tr>\n",
       "    <tr>\n",
       "      <th>step_2</th>\n",
       "      <td>30978</td>\n",
       "      <td>22252</td>\n",
       "      <td>0.72</td>\n",
       "    </tr>\n",
       "    <tr>\n",
       "      <th>step_3</th>\n",
       "      <td>25888</td>\n",
       "      <td>20876</td>\n",
       "      <td>0.81</td>\n",
       "    </tr>\n",
       "    <tr>\n",
       "      <th>confirm</th>\n",
       "      <td>25716</td>\n",
       "      <td>18682</td>\n",
       "      <td>0.73</td>\n",
       "    </tr>\n",
       "  </tbody>\n",
       "</table>\n",
       "</div>"
      ],
      "text/plain": [
       "                        count  client_id  unique_frequency as % total\n",
       "Variation process_step                                               \n",
       "Control   start         47589      23391                         0.49\n",
       "          step_1        29657      20146                         0.68\n",
       "          step_2        25877      18644                         0.72\n",
       "          step_3        22787      17416                         0.76\n",
       "          confirm       17498      15428                         0.88\n",
       "Test      start         56452      26672                         0.47\n",
       "          step_1        38753      24260                         0.63\n",
       "          step_2        30978      22252                         0.72\n",
       "          step_3        25888      20876                         0.81\n",
       "          confirm       25716      18682                         0.73"
      ]
     },
     "execution_count": 66,
     "metadata": {},
     "output_type": "execute_result"
    }
   ],
   "source": [
    "# unique frequency by client by control/test as % of total frequency\n",
    "horizontal_concat = pd.concat([process_step_frequency_total ,process_step_sorted_variation ], axis=1)\n",
    "horizontal_concat['unique_frequency as % total'] = horizontal_concat['client_id']/horizontal_concat['count']\n",
    "horizontal_concat.fillna(0).round(2)"
   ]
  },
  {
   "cell_type": "code",
   "execution_count": 67,
   "id": "43e7e6b4-a86f-4973-9013-4bcb9111a3bf",
   "metadata": {},
   "outputs": [],
   "source": [
    "horizontal_concat['unique_frequency as % total'] = horizontal_concat['client_id']/horizontal_concat['count']"
   ]
  },
  {
   "cell_type": "code",
   "execution_count": 68,
   "id": "ed569a34-59a9-44d9-ad32-ee8261c0d747",
   "metadata": {},
   "outputs": [],
   "source": [
    "process_step_sorted_variation['Drop_out'] = process_step_sorted_variation.groupby('Variation')['client_id'].diff()*-1\n"
   ]
  },
  {
   "cell_type": "code",
   "execution_count": 69,
   "id": "f1d3db77-1236-41a1-b072-72c5d33c6bac",
   "metadata": {},
   "outputs": [
    {
     "data": {
      "text/html": [
       "<div>\n",
       "<style scoped>\n",
       "    .dataframe tbody tr th:only-of-type {\n",
       "        vertical-align: middle;\n",
       "    }\n",
       "\n",
       "    .dataframe tbody tr th {\n",
       "        vertical-align: top;\n",
       "    }\n",
       "\n",
       "    .dataframe thead th {\n",
       "        text-align: right;\n",
       "    }\n",
       "</style>\n",
       "<table border=\"1\" class=\"dataframe\">\n",
       "  <thead>\n",
       "    <tr style=\"text-align: right;\">\n",
       "      <th></th>\n",
       "      <th></th>\n",
       "      <th>client_id</th>\n",
       "      <th>Drop_out</th>\n",
       "      <th>Percentage_drop_out, %</th>\n",
       "    </tr>\n",
       "    <tr>\n",
       "      <th>Variation</th>\n",
       "      <th>process_step</th>\n",
       "      <th></th>\n",
       "      <th></th>\n",
       "      <th></th>\n",
       "    </tr>\n",
       "  </thead>\n",
       "  <tbody>\n",
       "    <tr>\n",
       "      <th rowspan=\"5\" valign=\"top\">Test</th>\n",
       "      <th>start</th>\n",
       "      <td>26672</td>\n",
       "      <td>0.0</td>\n",
       "      <td>0.00</td>\n",
       "    </tr>\n",
       "    <tr>\n",
       "      <th>step_1</th>\n",
       "      <td>24260</td>\n",
       "      <td>2412.0</td>\n",
       "      <td>9.04</td>\n",
       "    </tr>\n",
       "    <tr>\n",
       "      <th>step_2</th>\n",
       "      <td>22252</td>\n",
       "      <td>2008.0</td>\n",
       "      <td>8.28</td>\n",
       "    </tr>\n",
       "    <tr>\n",
       "      <th>step_3</th>\n",
       "      <td>20876</td>\n",
       "      <td>1376.0</td>\n",
       "      <td>6.18</td>\n",
       "    </tr>\n",
       "    <tr>\n",
       "      <th>confirm</th>\n",
       "      <td>18682</td>\n",
       "      <td>2194.0</td>\n",
       "      <td>10.51</td>\n",
       "    </tr>\n",
       "    <tr>\n",
       "      <th rowspan=\"5\" valign=\"top\">Control</th>\n",
       "      <th>start</th>\n",
       "      <td>23391</td>\n",
       "      <td>0.0</td>\n",
       "      <td>0.00</td>\n",
       "    </tr>\n",
       "    <tr>\n",
       "      <th>step_1</th>\n",
       "      <td>20146</td>\n",
       "      <td>3245.0</td>\n",
       "      <td>13.87</td>\n",
       "    </tr>\n",
       "    <tr>\n",
       "      <th>step_2</th>\n",
       "      <td>18644</td>\n",
       "      <td>1502.0</td>\n",
       "      <td>7.46</td>\n",
       "    </tr>\n",
       "    <tr>\n",
       "      <th>step_3</th>\n",
       "      <td>17416</td>\n",
       "      <td>1228.0</td>\n",
       "      <td>6.59</td>\n",
       "    </tr>\n",
       "    <tr>\n",
       "      <th>confirm</th>\n",
       "      <td>15428</td>\n",
       "      <td>1988.0</td>\n",
       "      <td>11.41</td>\n",
       "    </tr>\n",
       "  </tbody>\n",
       "</table>\n",
       "</div>"
      ],
      "text/plain": [
       "                        client_id  Drop_out  Percentage_drop_out, %\n",
       "Variation process_step                                             \n",
       "Test      start             26672       0.0                    0.00\n",
       "          step_1            24260    2412.0                    9.04\n",
       "          step_2            22252    2008.0                    8.28\n",
       "          step_3            20876    1376.0                    6.18\n",
       "          confirm           18682    2194.0                   10.51\n",
       "Control   start             23391       0.0                    0.00\n",
       "          step_1            20146    3245.0                   13.87\n",
       "          step_2            18644    1502.0                    7.46\n",
       "          step_3            17416    1228.0                    6.59\n",
       "          confirm           15428    1988.0                   11.41"
      ]
     },
     "execution_count": 69,
     "metadata": {},
     "output_type": "execute_result"
    }
   ],
   "source": [
    "process_step_sorted_variation['Percentage_drop_out, %'] = process_step_sorted_variation['Drop_out']  / process_step_sorted_variation['client_id'].shift(1).round(2)* 100\n",
    "process_step_sorted_variation.fillna(0).round(2)\n"
   ]
  }
 ],
 "metadata": {
  "kernelspec": {
   "display_name": "Python 3 (ipykernel)",
   "language": "python",
   "name": "python3"
  },
  "language_info": {
   "codemirror_mode": {
    "name": "ipython",
    "version": 3
   },
   "file_extension": ".py",
   "mimetype": "text/x-python",
   "name": "python",
   "nbconvert_exporter": "python",
   "pygments_lexer": "ipython3",
   "version": "3.12.4"
  }
 },
 "nbformat": 4,
 "nbformat_minor": 5
}
