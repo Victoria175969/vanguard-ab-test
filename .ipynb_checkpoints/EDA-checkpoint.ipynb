{
 "cells": [
  {
   "cell_type": "code",
   "execution_count": 1,
   "id": "92aad390-f270-4c2a-9b74-32d1af8a534f",
   "metadata": {},
   "outputs": [
    {
     "name": "stdout",
     "output_type": "stream",
     "text": [
      "Intel MKL WARNING: Support of Intel(R) Streaming SIMD Extensions 4.2 (Intel(R) SSE4.2) enabled only processors has been deprecated. Intel oneAPI Math Kernel Library 2025.0 will require Intel(R) Advanced Vector Extensions (Intel(R) AVX) instructions.\n",
      "Intel MKL WARNING: Support of Intel(R) Streaming SIMD Extensions 4.2 (Intel(R) SSE4.2) enabled only processors has been deprecated. Intel oneAPI Math Kernel Library 2025.0 will require Intel(R) Advanced Vector Extensions (Intel(R) AVX) instructions.\n"
     ]
    }
   ],
   "source": [
    "# imports\n",
    "import pandas as pd\n",
    "import matplotlib.pyplot as plt\n",
    "import seaborn as sns\n",
    "import numpy as np\n",
    "import scipy.stats as st\n",
    "from scipy.stats import ttest_ind"
   ]
  },
  {
   "cell_type": "code",
   "execution_count": 2,
   "id": "b2d96096-a472-4246-a8dc-e0abbea7bc2f",
   "metadata": {
    "scrolled": true
   },
   "outputs": [],
   "source": [
    "# import data\n",
    "final_demo_df = pd.read_csv(\"df_final_demo.txt\")\n",
    "age_group_counts = final_demo_df['clnt_age'].value_counts().sort_index()\n",
    "final_experiment_clients_df = pd.read_csv(\"df_final_experiment_clients.txt\")\n",
    "final_web_data_pt_1_df = pd.read_csv(\"df_final_web_data_pt_1.txt\")\n",
    "final_web_data_pt_2_df = pd.read_csv(\"df_final_web_data_pt_2.txt\")"
   ]
  },
  {
   "cell_type": "code",
   "execution_count": 3,
   "id": "a918dab2-9455-4f30-86f1-1104a3889be8",
   "metadata": {},
   "outputs": [],
   "source": [
    "# merge data\n",
    "df_digital_footprints = pd.concat([final_web_data_pt_1_df,final_web_data_pt_2_df ], axis=0)\n",
    "df_merged_1= pd.merge(final_demo_df, df_digital_footprints, how=\"outer\", on=[\"client_id\"])\n",
    "final_df= pd.merge(df_merged_1, final_experiment_clients_df, how=\"outer\", on=[\"client_id\"])"
   ]
  },
  {
   "cell_type": "code",
   "execution_count": 4,
   "id": "c012f6c6-6229-45c4-b49a-d43c8a6c10c0",
   "metadata": {},
   "outputs": [
    {
     "name": "stdout",
     "output_type": "stream",
     "text": [
      "(755405, 14)\n",
      "(321309, 14)\n"
     ]
    }
   ],
   "source": [
    "# dropping rows that have nans in test vs control\n",
    "final_df[\"Variation\"] = final_df[\"Variation\"].replace(['nan', 'NAN', 'NaN', 'Nan', ''], np.nan)\n",
    "print(final_df.shape)\n",
    "cleaned_df=final_df.dropna(subset=['Variation'])\n",
    "print(cleaned_df.shape)"
   ]
  },
  {
   "cell_type": "code",
   "execution_count": 5,
   "id": "8a67f6e9-1e7c-4cf5-8256-59e1548e1f51",
   "metadata": {},
   "outputs": [
    {
     "name": "stdout",
     "output_type": "stream",
     "text": [
      "(321309, 14)\n",
      "(321195, 14)\n"
     ]
    }
   ],
   "source": [
    "# dropping rows with nan in any row\n",
    "print(cleaned_df.shape)\n",
    "cleaned_df = cleaned_df.dropna()\n",
    "print(cleaned_df.shape)"
   ]
  },
  {
   "cell_type": "code",
   "execution_count": 6,
   "id": "17b0c1a3-c12a-4e7a-bdfb-580e7ce669e8",
   "metadata": {},
   "outputs": [
    {
     "name": "stdout",
     "output_type": "stream",
     "text": [
      "client_id            50487\n",
      "clnt_tenure_yr          53\n",
      "clnt_tenure_mnth       469\n",
      "clnt_age               158\n",
      "gendr                    4\n",
      "num_accts                7\n",
      "bal                  50311\n",
      "calls_6_mnth             7\n",
      "logons_6_mnth            7\n",
      "visitor_id           55994\n",
      "visit_id             69183\n",
      "process_step             5\n",
      "date_time           283253\n",
      "Variation                2\n",
      "dtype: int64\n",
      "client_id             int64\n",
      "clnt_tenure_yr      float64\n",
      "clnt_tenure_mnth    float64\n",
      "clnt_age            float64\n",
      "gendr                object\n",
      "num_accts           float64\n",
      "bal                 float64\n",
      "calls_6_mnth        float64\n",
      "logons_6_mnth       float64\n",
      "visitor_id           object\n",
      "visit_id             object\n",
      "process_step         object\n",
      "date_time            object\n",
      "Variation            object\n",
      "dtype: object\n"
     ]
    }
   ],
   "source": [
    "# additional checks\n",
    "print(cleaned_df.nunique())\n",
    "print(cleaned_df.dtypes)"
   ]
  },
  {
   "cell_type": "code",
   "execution_count": 7,
   "id": "36e97096-0fab-4f0a-8559-7e7e8ebf85a1",
   "metadata": {},
   "outputs": [
    {
     "name": "stdout",
     "output_type": "stream",
     "text": [
      "['U' 'M' 'F' 'X']\n",
      "['427070339_1413275162' '336210275_56978226960' '245908175_84333642537'\n",
      " ... '69579557_2827236069' '8756552_54841419737' '317123960_46820919455']\n",
      "['228976764_46825473280_96584' '104438405_2368283624_817211'\n",
      " '724930510_65323235593_692754' ... '268191173_38958330991_849725'\n",
      " '101846948_96925910026_299041' '769876461_30381166055_830233']\n",
      "['confirm' 'step_3' 'step_2' 'step_1' 'start']\n",
      "['2017-04-02 11:51:13' '2017-04-02 11:47:50' '2017-04-02 11:46:45' ...\n",
      " '2017-03-30 23:58:51' '2017-03-30 23:58:40' '2017-03-30 23:55:11']\n",
      "['Test' 'Control']\n"
     ]
    }
   ],
   "source": [
    "# additional check for unique values in categorical columns\n",
    "for col in cleaned_df.columns:\n",
    "    if cleaned_df[col].dtype=='object':\n",
    "       print (cleaned_df[col].unique())"
   ]
  },
  {
   "cell_type": "code",
   "execution_count": 8,
   "id": "3ab019c8-6095-417f-b58f-80388d1220a4",
   "metadata": {},
   "outputs": [
    {
     "data": {
      "text/plain": [
       "gendr\n",
       "F    16258\n",
       "M    16947\n",
       "U    17280\n",
       "X        2\n",
       "Name: client_id, dtype: int64"
      ]
     },
     "execution_count": 8,
     "metadata": {},
     "output_type": "execute_result"
    }
   ],
   "source": [
    "# gender check\n",
    "gender_counts = cleaned_df.groupby('gendr')['client_id'].nunique()\n",
    "gender_counts"
   ]
  },
  {
   "cell_type": "code",
   "execution_count": 9,
   "id": "160640f5-8a81-4af3-93ce-2cef01d79132",
   "metadata": {},
   "outputs": [
    {
     "data": {
      "text/plain": [
       "Variation\n",
       "Control    143408\n",
       "Test       177787\n",
       "Name: client_id, dtype: int64"
      ]
     },
     "execution_count": 9,
     "metadata": {},
     "output_type": "execute_result"
    }
   ],
   "source": [
    "# Group all the clients by Variation (Control/Test)\n",
    "client_count_by_test = cleaned_df.groupby('Variation')['client_id'].count()\n",
    "client_count_by_test"
   ]
  },
  {
   "cell_type": "code",
   "execution_count": 10,
   "id": "f1916fba-2221-40d5-bd81-d2b199d9e10b",
   "metadata": {},
   "outputs": [
    {
     "data": {
      "text/plain": [
       "(48.6, 50.0, 58.5)"
      ]
     },
     "execution_count": 10,
     "metadata": {},
     "output_type": "execute_result"
    }
   ],
   "source": [
    "# Age central measures for all clients\n",
    "mean_age = cleaned_df['clnt_age'].mean().round(1)\n",
    "median_age = cleaned_df['clnt_age'].median()\n",
    "mode_age = cleaned_df['clnt_age'].mode()[0]\n",
    "mean_age, median_age, mode_age"
   ]
  },
  {
   "cell_type": "code",
   "execution_count": 11,
   "id": "62a91d0e-f4da-4baa-ae6c-ee661b7ea79f",
   "metadata": {},
   "outputs": [
    {
     "data": {
      "text/plain": [
       "<bound method Series.reset_index of Variation\n",
       "Control    48.31\n",
       "Test       48.75\n",
       "Name: clnt_age, dtype: float64>"
      ]
     },
     "execution_count": 11,
     "metadata": {},
     "output_type": "execute_result"
    }
   ],
   "source": [
    "# mean age by group\n",
    "mean_age = cleaned_df.groupby(['Variation'])['clnt_age'].mean().round(2).reset_index\n",
    "mean_age"
   ]
  },
  {
   "cell_type": "code",
   "execution_count": 12,
   "id": "89906a52-2757-4797-9bab-bebfe55b6514",
   "metadata": {},
   "outputs": [
    {
     "data": {
      "text/plain": [
       "(17.0, 96.0)"
      ]
     },
     "execution_count": 12,
     "metadata": {},
     "output_type": "execute_result"
    }
   ],
   "source": [
    "# age range\n",
    "min_age = cleaned_df['clnt_age'].min()\n",
    "max_age = cleaned_df['clnt_age'].max()\n",
    "min_age, max_age"
   ]
  },
  {
   "cell_type": "code",
   "execution_count": 13,
   "id": "d08570c7-f58e-420a-a9f3-fb8533ad4d10",
   "metadata": {},
   "outputs": [
    {
     "data": {
      "text/plain": [
       "client_id  clnt_age\n",
       "555        29.5        1\n",
       "647        57.5        1\n",
       "934        51.0        1\n",
       "1028       36.0        1\n",
       "1104       48.0        1\n",
       "                      ..\n",
       "9999150    30.0        1\n",
       "9999400    28.5        1\n",
       "9999626    35.0        1\n",
       "9999729    31.0        1\n",
       "9999832    49.0        1\n",
       "Name: clnt_tenure_yr, Length: 50487, dtype: int64"
      ]
     },
     "execution_count": 13,
     "metadata": {},
     "output_type": "execute_result"
    }
   ],
   "source": [
    "# Count of tenure years by age group\n",
    "age_group = cleaned_df.groupby('clnt_age')\n",
    "client_count_by_age_tenure = cleaned_df.groupby(['client_id', 'clnt_age'])['clnt_tenure_yr'].nunique()\n",
    "client_count_by_age_tenure"
   ]
  },
  {
   "cell_type": "code",
   "execution_count": 14,
   "id": "ae874420-ff79-4f41-b9f8-f4ec6c651059",
   "metadata": {},
   "outputs": [
    {
     "data": {
      "text/plain": [
       "clnt_age\n",
       "17.0     8.7\n",
       "17.5     7.5\n",
       "18.0    10.1\n",
       "18.5     9.0\n",
       "19.0     8.9\n",
       "        ... \n",
       "93.5    20.5\n",
       "94.0     7.4\n",
       "94.5    15.0\n",
       "95.5    12.0\n",
       "96.0    16.8\n",
       "Name: clnt_tenure_yr, Length: 158, dtype: float64"
      ]
     },
     "execution_count": 14,
     "metadata": {},
     "output_type": "execute_result"
    }
   ],
   "source": [
    "# Average length of tenure (years) by age group\n",
    "avg_tenure_by_age = cleaned_df.groupby('clnt_age')['clnt_tenure_yr'].mean().round(1)\n",
    "avg_tenure_by_age"
   ]
  },
  {
   "cell_type": "code",
   "execution_count": 15,
   "id": "50fd7d89-ac45-4de4-bfbc-468fce8c369d",
   "metadata": {},
   "outputs": [
    {
     "name": "stderr",
     "output_type": "stream",
     "text": [
      "/opt/anaconda3/lib/python3.9/site-packages/seaborn/_oldcore.py:1119: FutureWarning: use_inf_as_na option is deprecated and will be removed in a future version. Convert inf values to NaN before operating instead.\n",
      "  with pd.option_context('mode.use_inf_as_na', True):\n"
     ]
    },
    {
     "data": {
      "image/png": "[encoded data removed]",
      "text/plain": [
       "<Figure size 1000x600 with 1 Axes>"
      ]
     },
     "metadata": {},
     "output_type": "display_data"
    }
   ],
   "source": [
    "#  distribution of number of clients by age groups\n",
    "plt.figure(figsize=(10, 6))\n",
    "sns.histplot(data=cleaned_df['clnt_age'], bins=20, kde=True, color=\"skyblue\")\n",
    "plt.title('Distribution of Age')\n",
    "plt.show()"
   ]
  },
  {
   "cell_type": "code",
   "execution_count": 16,
   "id": "650cfb6c-f30c-4887-b767-1aa26ba1ec34",
   "metadata": {},
   "outputs": [
    {
     "data": {
      "text/plain": [
       "<bound method Series.reset_index of Variation\n",
       "Control    159408.4\n",
       "Test       164477.4\n",
       "Name: bal, dtype: float64>"
      ]
     },
     "execution_count": 16,
     "metadata": {},
     "output_type": "execute_result"
    }
   ],
   "source": [
    "# Average account balance by Variation\n",
    "avg_balance_account = cleaned_df.groupby(['Variation'])['bal'].mean().round(1).reset_index\n",
    "avg_balance_account"
   ]
  },
  {
   "cell_type": "code",
   "execution_count": 17,
   "id": "5aa37512-5793-4e52-b4b1-85c71ba41f66",
   "metadata": {},
   "outputs": [],
   "source": [
    "# if still time, add function for outlier detection per column"
   ]
  },
  {
   "cell_type": "markdown",
   "id": "682d6fea-ff66-471a-b39d-47dc6bc64cca",
   "metadata": {},
   "source": [
    "# STATS"
   ]
  },
  {
   "cell_type": "markdown",
   "id": "6db9dd69-6c35-4e53-90cc-2310b1ce8e80",
   "metadata": {},
   "source": [
    "### demographics between groups"
   ]
  },
  {
   "cell_type": "code",
   "execution_count": 20,
   "id": "3fc6b848-ebdf-44c4-830e-a70c8cfdc1f1",
   "metadata": {},
   "outputs": [
    {
     "data": {
      "text/html": [
       "<div>\n",
       "<style scoped>\n",
       "    .dataframe tbody tr th:only-of-type {\n",
       "        vertical-align: middle;\n",
       "    }\n",
       "\n",
       "    .dataframe tbody tr th {\n",
       "        vertical-align: top;\n",
       "    }\n",
       "\n",
       "    .dataframe thead th {\n",
       "        text-align: right;\n",
       "    }\n",
       "</style>\n",
       "<table border=\"1\" class=\"dataframe\">\n",
       "  <thead>\n",
       "    <tr style=\"text-align: right;\">\n",
       "      <th></th>\n",
       "      <th>client_id</th>\n",
       "      <th>clnt_tenure_yr</th>\n",
       "      <th>clnt_tenure_mnth</th>\n",
       "      <th>clnt_age</th>\n",
       "      <th>gendr</th>\n",
       "      <th>num_accts</th>\n",
       "      <th>bal</th>\n",
       "      <th>calls_6_mnth</th>\n",
       "      <th>logons_6_mnth</th>\n",
       "      <th>visitor_id</th>\n",
       "      <th>visit_id</th>\n",
       "      <th>process_step</th>\n",
       "      <th>date_time</th>\n",
       "      <th>Variation</th>\n",
       "    </tr>\n",
       "  </thead>\n",
       "  <tbody>\n",
       "    <tr>\n",
       "      <th>0</th>\n",
       "      <td>836976</td>\n",
       "      <td>6.0</td>\n",
       "      <td>73.0</td>\n",
       "      <td>60.5</td>\n",
       "      <td>U</td>\n",
       "      <td>2.0</td>\n",
       "      <td>45105.30</td>\n",
       "      <td>6.0</td>\n",
       "      <td>9.0</td>\n",
       "      <td>427070339_1413275162</td>\n",
       "      <td>228976764_46825473280_96584</td>\n",
       "      <td>confirm</td>\n",
       "      <td>2017-04-02 11:51:13</td>\n",
       "      <td>Test</td>\n",
       "    </tr>\n",
       "    <tr>\n",
       "      <th>1</th>\n",
       "      <td>836976</td>\n",
       "      <td>6.0</td>\n",
       "      <td>73.0</td>\n",
       "      <td>60.5</td>\n",
       "      <td>U</td>\n",
       "      <td>2.0</td>\n",
       "      <td>45105.30</td>\n",
       "      <td>6.0</td>\n",
       "      <td>9.0</td>\n",
       "      <td>427070339_1413275162</td>\n",
       "      <td>228976764_46825473280_96584</td>\n",
       "      <td>confirm</td>\n",
       "      <td>2017-04-02 11:47:50</td>\n",
       "      <td>Test</td>\n",
       "    </tr>\n",
       "    <tr>\n",
       "      <th>2</th>\n",
       "      <td>836976</td>\n",
       "      <td>6.0</td>\n",
       "      <td>73.0</td>\n",
       "      <td>60.5</td>\n",
       "      <td>U</td>\n",
       "      <td>2.0</td>\n",
       "      <td>45105.30</td>\n",
       "      <td>6.0</td>\n",
       "      <td>9.0</td>\n",
       "      <td>427070339_1413275162</td>\n",
       "      <td>228976764_46825473280_96584</td>\n",
       "      <td>confirm</td>\n",
       "      <td>2017-04-02 11:46:45</td>\n",
       "      <td>Test</td>\n",
       "    </tr>\n",
       "    <tr>\n",
       "      <th>3</th>\n",
       "      <td>836976</td>\n",
       "      <td>6.0</td>\n",
       "      <td>73.0</td>\n",
       "      <td>60.5</td>\n",
       "      <td>U</td>\n",
       "      <td>2.0</td>\n",
       "      <td>45105.30</td>\n",
       "      <td>6.0</td>\n",
       "      <td>9.0</td>\n",
       "      <td>427070339_1413275162</td>\n",
       "      <td>228976764_46825473280_96584</td>\n",
       "      <td>step_3</td>\n",
       "      <td>2017-04-02 11:23:08</td>\n",
       "      <td>Test</td>\n",
       "    </tr>\n",
       "    <tr>\n",
       "      <th>4</th>\n",
       "      <td>836976</td>\n",
       "      <td>6.0</td>\n",
       "      <td>73.0</td>\n",
       "      <td>60.5</td>\n",
       "      <td>U</td>\n",
       "      <td>2.0</td>\n",
       "      <td>45105.30</td>\n",
       "      <td>6.0</td>\n",
       "      <td>9.0</td>\n",
       "      <td>427070339_1413275162</td>\n",
       "      <td>228976764_46825473280_96584</td>\n",
       "      <td>step_2</td>\n",
       "      <td>2017-04-02 11:22:24</td>\n",
       "      <td>Test</td>\n",
       "    </tr>\n",
       "    <tr>\n",
       "      <th>...</th>\n",
       "      <td>...</td>\n",
       "      <td>...</td>\n",
       "      <td>...</td>\n",
       "      <td>...</td>\n",
       "      <td>...</td>\n",
       "      <td>...</td>\n",
       "      <td>...</td>\n",
       "      <td>...</td>\n",
       "      <td>...</td>\n",
       "      <td>...</td>\n",
       "      <td>...</td>\n",
       "      <td>...</td>\n",
       "      <td>...</td>\n",
       "      <td>...</td>\n",
       "    </tr>\n",
       "    <tr>\n",
       "      <th>321304</th>\n",
       "      <td>7468138</td>\n",
       "      <td>18.0</td>\n",
       "      <td>222.0</td>\n",
       "      <td>61.0</td>\n",
       "      <td>F</td>\n",
       "      <td>3.0</td>\n",
       "      <td>209278.15</td>\n",
       "      <td>0.0</td>\n",
       "      <td>3.0</td>\n",
       "      <td>317123960_46820919455</td>\n",
       "      <td>769876461_30381166055_830233</td>\n",
       "      <td>step_2</td>\n",
       "      <td>2017-03-30 23:59:15</td>\n",
       "      <td>Test</td>\n",
       "    </tr>\n",
       "    <tr>\n",
       "      <th>321305</th>\n",
       "      <td>7468138</td>\n",
       "      <td>18.0</td>\n",
       "      <td>222.0</td>\n",
       "      <td>61.0</td>\n",
       "      <td>F</td>\n",
       "      <td>3.0</td>\n",
       "      <td>209278.15</td>\n",
       "      <td>0.0</td>\n",
       "      <td>3.0</td>\n",
       "      <td>317123960_46820919455</td>\n",
       "      <td>769876461_30381166055_830233</td>\n",
       "      <td>step_1</td>\n",
       "      <td>2017-03-30 23:58:51</td>\n",
       "      <td>Test</td>\n",
       "    </tr>\n",
       "    <tr>\n",
       "      <th>321306</th>\n",
       "      <td>7468138</td>\n",
       "      <td>18.0</td>\n",
       "      <td>222.0</td>\n",
       "      <td>61.0</td>\n",
       "      <td>F</td>\n",
       "      <td>3.0</td>\n",
       "      <td>209278.15</td>\n",
       "      <td>0.0</td>\n",
       "      <td>3.0</td>\n",
       "      <td>317123960_46820919455</td>\n",
       "      <td>769876461_30381166055_830233</td>\n",
       "      <td>start</td>\n",
       "      <td>2017-03-30 23:58:40</td>\n",
       "      <td>Test</td>\n",
       "    </tr>\n",
       "    <tr>\n",
       "      <th>321307</th>\n",
       "      <td>7468138</td>\n",
       "      <td>18.0</td>\n",
       "      <td>222.0</td>\n",
       "      <td>61.0</td>\n",
       "      <td>F</td>\n",
       "      <td>3.0</td>\n",
       "      <td>209278.15</td>\n",
       "      <td>0.0</td>\n",
       "      <td>3.0</td>\n",
       "      <td>317123960_46820919455</td>\n",
       "      <td>769876461_30381166055_830233</td>\n",
       "      <td>start</td>\n",
       "      <td>2017-03-30 23:55:11</td>\n",
       "      <td>Test</td>\n",
       "    </tr>\n",
       "    <tr>\n",
       "      <th>321308</th>\n",
       "      <td>7468138</td>\n",
       "      <td>18.0</td>\n",
       "      <td>222.0</td>\n",
       "      <td>61.0</td>\n",
       "      <td>F</td>\n",
       "      <td>3.0</td>\n",
       "      <td>209278.15</td>\n",
       "      <td>0.0</td>\n",
       "      <td>3.0</td>\n",
       "      <td>317123960_46820919455</td>\n",
       "      <td>769876461_30381166055_830233</td>\n",
       "      <td>start</td>\n",
       "      <td>2017-03-31 00:16:12</td>\n",
       "      <td>Test</td>\n",
       "    </tr>\n",
       "  </tbody>\n",
       "</table>\n",
       "<p>321195 rows × 14 columns</p>\n",
       "</div>"
      ],
      "text/plain": [
       "        client_id  clnt_tenure_yr  clnt_tenure_mnth  clnt_age gendr  \\\n",
       "0          836976             6.0              73.0      60.5     U   \n",
       "1          836976             6.0              73.0      60.5     U   \n",
       "2          836976             6.0              73.0      60.5     U   \n",
       "3          836976             6.0              73.0      60.5     U   \n",
       "4          836976             6.0              73.0      60.5     U   \n",
       "...           ...             ...               ...       ...   ...   \n",
       "321304    7468138            18.0             222.0      61.0     F   \n",
       "321305    7468138            18.0             222.0      61.0     F   \n",
       "321306    7468138            18.0             222.0      61.0     F   \n",
       "321307    7468138            18.0             222.0      61.0     F   \n",
       "321308    7468138            18.0             222.0      61.0     F   \n",
       "\n",
       "        num_accts        bal  calls_6_mnth  logons_6_mnth  \\\n",
       "0             2.0   45105.30           6.0            9.0   \n",
       "1             2.0   45105.30           6.0            9.0   \n",
       "2             2.0   45105.30           6.0            9.0   \n",
       "3             2.0   45105.30           6.0            9.0   \n",
       "4             2.0   45105.30           6.0            9.0   \n",
       "...           ...        ...           ...            ...   \n",
       "321304        3.0  209278.15           0.0            3.0   \n",
       "321305        3.0  209278.15           0.0            3.0   \n",
       "321306        3.0  209278.15           0.0            3.0   \n",
       "321307        3.0  209278.15           0.0            3.0   \n",
       "321308        3.0  209278.15           0.0            3.0   \n",
       "\n",
       "                   visitor_id                      visit_id process_step  \\\n",
       "0        427070339_1413275162   228976764_46825473280_96584      confirm   \n",
       "1        427070339_1413275162   228976764_46825473280_96584      confirm   \n",
       "2        427070339_1413275162   228976764_46825473280_96584      confirm   \n",
       "3        427070339_1413275162   228976764_46825473280_96584       step_3   \n",
       "4        427070339_1413275162   228976764_46825473280_96584       step_2   \n",
       "...                       ...                           ...          ...   \n",
       "321304  317123960_46820919455  769876461_30381166055_830233       step_2   \n",
       "321305  317123960_46820919455  769876461_30381166055_830233       step_1   \n",
       "321306  317123960_46820919455  769876461_30381166055_830233        start   \n",
       "321307  317123960_46820919455  769876461_30381166055_830233        start   \n",
       "321308  317123960_46820919455  769876461_30381166055_830233        start   \n",
       "\n",
       "                  date_time Variation  \n",
       "0       2017-04-02 11:51:13      Test  \n",
       "1       2017-04-02 11:47:50      Test  \n",
       "2       2017-04-02 11:46:45      Test  \n",
       "3       2017-04-02 11:23:08      Test  \n",
       "4       2017-04-02 11:22:24      Test  \n",
       "...                     ...       ...  \n",
       "321304  2017-03-30 23:59:15      Test  \n",
       "321305  2017-03-30 23:58:51      Test  \n",
       "321306  2017-03-30 23:58:40      Test  \n",
       "321307  2017-03-30 23:55:11      Test  \n",
       "321308  2017-03-31 00:16:12      Test  \n",
       "\n",
       "[321195 rows x 14 columns]"
      ]
     },
     "execution_count": 20,
     "metadata": {},
     "output_type": "execute_result"
    }
   ],
   "source": [
    "cleaned_df"
   ]
  },
  {
   "cell_type": "code",
   "execution_count": 21,
   "id": "01e9b44c-0c84-4859-b3a1-88c2dbff4d01",
   "metadata": {},
   "outputs": [
    {
     "data": {
      "text/html": [
       "<div>\n",
       "<style scoped>\n",
       "    .dataframe tbody tr th:only-of-type {\n",
       "        vertical-align: middle;\n",
       "    }\n",
       "\n",
       "    .dataframe tbody tr th {\n",
       "        vertical-align: top;\n",
       "    }\n",
       "\n",
       "    .dataframe thead th {\n",
       "        text-align: right;\n",
       "    }\n",
       "</style>\n",
       "<table border=\"1\" class=\"dataframe\">\n",
       "  <thead>\n",
       "    <tr style=\"text-align: right;\">\n",
       "      <th></th>\n",
       "      <th>client_id</th>\n",
       "      <th>clnt_tenure_yr</th>\n",
       "      <th>clnt_tenure_mnth</th>\n",
       "      <th>clnt_age</th>\n",
       "      <th>gendr</th>\n",
       "      <th>num_accts</th>\n",
       "      <th>bal</th>\n",
       "      <th>calls_6_mnth</th>\n",
       "      <th>logons_6_mnth</th>\n",
       "      <th>Variation</th>\n",
       "    </tr>\n",
       "  </thead>\n",
       "  <tbody>\n",
       "    <tr>\n",
       "      <th>0</th>\n",
       "      <td>836976</td>\n",
       "      <td>6.0</td>\n",
       "      <td>73.0</td>\n",
       "      <td>60.5</td>\n",
       "      <td>U</td>\n",
       "      <td>2.0</td>\n",
       "      <td>45105.30</td>\n",
       "      <td>6.0</td>\n",
       "      <td>9.0</td>\n",
       "      <td>Test</td>\n",
       "    </tr>\n",
       "    <tr>\n",
       "      <th>11</th>\n",
       "      <td>2304905</td>\n",
       "      <td>7.0</td>\n",
       "      <td>94.0</td>\n",
       "      <td>58.0</td>\n",
       "      <td>U</td>\n",
       "      <td>2.0</td>\n",
       "      <td>110860.30</td>\n",
       "      <td>6.0</td>\n",
       "      <td>9.0</td>\n",
       "      <td>Control</td>\n",
       "    </tr>\n",
       "    <tr>\n",
       "      <th>17</th>\n",
       "      <td>1439522</td>\n",
       "      <td>5.0</td>\n",
       "      <td>64.0</td>\n",
       "      <td>32.0</td>\n",
       "      <td>U</td>\n",
       "      <td>2.0</td>\n",
       "      <td>52467.79</td>\n",
       "      <td>6.0</td>\n",
       "      <td>9.0</td>\n",
       "      <td>Test</td>\n",
       "    </tr>\n",
       "    <tr>\n",
       "      <th>22</th>\n",
       "      <td>1562045</td>\n",
       "      <td>16.0</td>\n",
       "      <td>198.0</td>\n",
       "      <td>49.0</td>\n",
       "      <td>M</td>\n",
       "      <td>2.0</td>\n",
       "      <td>67454.65</td>\n",
       "      <td>3.0</td>\n",
       "      <td>6.0</td>\n",
       "      <td>Test</td>\n",
       "    </tr>\n",
       "    <tr>\n",
       "      <th>23</th>\n",
       "      <td>5126305</td>\n",
       "      <td>12.0</td>\n",
       "      <td>145.0</td>\n",
       "      <td>33.0</td>\n",
       "      <td>F</td>\n",
       "      <td>2.0</td>\n",
       "      <td>103671.75</td>\n",
       "      <td>0.0</td>\n",
       "      <td>3.0</td>\n",
       "      <td>Control</td>\n",
       "    </tr>\n",
       "    <tr>\n",
       "      <th>...</th>\n",
       "      <td>...</td>\n",
       "      <td>...</td>\n",
       "      <td>...</td>\n",
       "      <td>...</td>\n",
       "      <td>...</td>\n",
       "      <td>...</td>\n",
       "      <td>...</td>\n",
       "      <td>...</td>\n",
       "      <td>...</td>\n",
       "      <td>...</td>\n",
       "    </tr>\n",
       "    <tr>\n",
       "      <th>321271</th>\n",
       "      <td>1780858</td>\n",
       "      <td>21.0</td>\n",
       "      <td>262.0</td>\n",
       "      <td>68.5</td>\n",
       "      <td>M</td>\n",
       "      <td>3.0</td>\n",
       "      <td>372100.59</td>\n",
       "      <td>6.0</td>\n",
       "      <td>9.0</td>\n",
       "      <td>Test</td>\n",
       "    </tr>\n",
       "    <tr>\n",
       "      <th>321283</th>\n",
       "      <td>6967120</td>\n",
       "      <td>21.0</td>\n",
       "      <td>260.0</td>\n",
       "      <td>68.5</td>\n",
       "      <td>M</td>\n",
       "      <td>3.0</td>\n",
       "      <td>4279873.38</td>\n",
       "      <td>6.0</td>\n",
       "      <td>9.0</td>\n",
       "      <td>Control</td>\n",
       "    </tr>\n",
       "    <tr>\n",
       "      <th>321288</th>\n",
       "      <td>5826160</td>\n",
       "      <td>20.0</td>\n",
       "      <td>249.0</td>\n",
       "      <td>56.5</td>\n",
       "      <td>F</td>\n",
       "      <td>2.0</td>\n",
       "      <td>44837.16</td>\n",
       "      <td>2.0</td>\n",
       "      <td>5.0</td>\n",
       "      <td>Test</td>\n",
       "    </tr>\n",
       "    <tr>\n",
       "      <th>321298</th>\n",
       "      <td>8739285</td>\n",
       "      <td>19.0</td>\n",
       "      <td>229.0</td>\n",
       "      <td>69.5</td>\n",
       "      <td>F</td>\n",
       "      <td>2.0</td>\n",
       "      <td>44994.24</td>\n",
       "      <td>1.0</td>\n",
       "      <td>4.0</td>\n",
       "      <td>Test</td>\n",
       "    </tr>\n",
       "    <tr>\n",
       "      <th>321303</th>\n",
       "      <td>7468138</td>\n",
       "      <td>18.0</td>\n",
       "      <td>222.0</td>\n",
       "      <td>61.0</td>\n",
       "      <td>F</td>\n",
       "      <td>3.0</td>\n",
       "      <td>209278.15</td>\n",
       "      <td>0.0</td>\n",
       "      <td>3.0</td>\n",
       "      <td>Test</td>\n",
       "    </tr>\n",
       "  </tbody>\n",
       "</table>\n",
       "<p>50487 rows × 10 columns</p>\n",
       "</div>"
      ],
      "text/plain": [
       "        client_id  clnt_tenure_yr  clnt_tenure_mnth  clnt_age gendr  \\\n",
       "0          836976             6.0              73.0      60.5     U   \n",
       "11        2304905             7.0              94.0      58.0     U   \n",
       "17        1439522             5.0              64.0      32.0     U   \n",
       "22        1562045            16.0             198.0      49.0     M   \n",
       "23        5126305            12.0             145.0      33.0     F   \n",
       "...           ...             ...               ...       ...   ...   \n",
       "321271    1780858            21.0             262.0      68.5     M   \n",
       "321283    6967120            21.0             260.0      68.5     M   \n",
       "321288    5826160            20.0             249.0      56.5     F   \n",
       "321298    8739285            19.0             229.0      69.5     F   \n",
       "321303    7468138            18.0             222.0      61.0     F   \n",
       "\n",
       "        num_accts         bal  calls_6_mnth  logons_6_mnth Variation  \n",
       "0             2.0    45105.30           6.0            9.0      Test  \n",
       "11            2.0   110860.30           6.0            9.0   Control  \n",
       "17            2.0    52467.79           6.0            9.0      Test  \n",
       "22            2.0    67454.65           3.0            6.0      Test  \n",
       "23            2.0   103671.75           0.0            3.0   Control  \n",
       "...           ...         ...           ...            ...       ...  \n",
       "321271        3.0   372100.59           6.0            9.0      Test  \n",
       "321283        3.0  4279873.38           6.0            9.0   Control  \n",
       "321288        2.0    44837.16           2.0            5.0      Test  \n",
       "321298        2.0    44994.24           1.0            4.0      Test  \n",
       "321303        3.0   209278.15           0.0            3.0      Test  \n",
       "\n",
       "[50487 rows x 10 columns]"
      ]
     },
     "execution_count": 21,
     "metadata": {},
     "output_type": "execute_result"
    }
   ],
   "source": [
    "# create df with 1 row for each client id\n",
    "df = cleaned_df.copy()\n",
    "df = df.drop(columns = [\"visitor_id\", \"visit_id\", \"process_step\", \"date_time\"])\n",
    "df = df.drop_duplicates()\n",
    "df"
   ]
  },
  {
   "cell_type": "code",
   "execution_count": 22,
   "id": "6d5f2aa1-2d03-406e-a3cf-5e88080b3733",
   "metadata": {},
   "outputs": [
    {
     "data": {
      "text/plain": [
       "TtestResult(statistic=2.416145610586789, pvalue=0.015689311849750098, df=50485.0)"
      ]
     },
     "execution_count": 22,
     "metadata": {},
     "output_type": "execute_result"
    }
   ],
   "source": [
    "# client age \n",
    "#H0: mu Control = mu Test\n",
    "#H1: mu Control != mu Test\n",
    "\n",
    "# Choose the significance level\n",
    "alpha = 0.05\n",
    "\n",
    "# Defining Control and Test Groups for Client Age\n",
    "control_1 = df[df[\"Variation\"]==\"Control\"][\"clnt_age\"]\n",
    "\n",
    "test_1 = df[df[\"Variation\"]==\"Test\"][\"clnt_age\"]\n",
    "#print(test_1)\n",
    "\n",
    "st.ttest_ind(control_1, test_1, alternative = 'two-sided')\n",
    "# the p_value is lower than our significance level, we can reject the null hypothesis "
   ]
  },
  {
   "cell_type": "code",
   "execution_count": 23,
   "id": "24c9edd5-abf9-4d61-bce0-b1d8a59a213c",
   "metadata": {},
   "outputs": [
    {
     "data": {
      "text/plain": [
       "TtestResult(statistic=1.7148872757395706, pvalue=0.0863720328483434, df=50485.0)"
      ]
     },
     "execution_count": 23,
     "metadata": {},
     "output_type": "execute_result"
    }
   ],
   "source": [
    "#Defining Control and Test Groups for Client Tenure\n",
    " \n",
    "control_2 = df[df[\"Variation\"]==\"Control\"][\"clnt_tenure_yr\"]\n",
    "test_2 = df[df[\"Variation\"]==\"Test\"][\"clnt_tenure_yr\"]\n",
    "#print(test_1)\n",
    "\n",
    "st.ttest_ind(control_2, test_2, alternative = 'two-sided')\n",
    "# the p_value is high than our significance level, we can not reject the null hypothesis "
   ]
  },
  {
   "cell_type": "code",
   "execution_count": 24,
   "id": "ad33c6b2-28a3-451c-abf1-9495e5f08c2e",
   "metadata": {},
   "outputs": [
    {
     "data": {
      "text/plain": [
       "TtestResult(statistic=0.4413421205814338, pvalue=0.6589672273121787, df=50485.0)"
      ]
     },
     "execution_count": 24,
     "metadata": {},
     "output_type": "execute_result"
    }
   ],
   "source": [
    "# Defining Control and Test Groups for Account Balances\n",
    "control_3 = df[df[\"Variation\"]==\"Control\"][\"bal\"]\n",
    "test_3 = df[df[\"Variation\"]==\"Test\"][\"bal\"]\n",
    "\n",
    "st.ttest_ind(control_3,test_3,alternative = 'two-sided')\n",
    "# the p_value is higher than our significance level, we can not reject the null hypothesis "
   ]
  },
  {
   "cell_type": "code",
   "execution_count": 25,
   "id": "f7f1d0d7-7ced-42ee-aefa-f85afa12f972",
   "metadata": {},
   "outputs": [
    {
     "data": {
      "text/plain": [
       "process_step\n",
       "start      50063\n",
       "step_1     44406\n",
       "step_2     40896\n",
       "step_3     38292\n",
       "confirm    34110\n",
       "Name: client_id, dtype: int64"
      ]
     },
     "execution_count": 25,
     "metadata": {},
     "output_type": "execute_result"
    }
   ],
   "source": [
    "completion_stage_sorted = cleaned_df.drop(['clnt_tenure_mnth','gendr','visit_id', 'visitor_id','Variation', 'clnt_tenure_yr',\t'clnt_age',\t'num_accts', 'bal',\t'calls_6_mnth', \t'logons_6_mnth', 'date_time'], axis=1)\n",
    "completion_stage_sorted = cleaned_df.groupby('process_step')['client_id'].nunique()\n",
    "completion_stage_sorted = completion_stage_sorted.sort_values(ascending=False)\n",
    "completion_stage_sorted "
   ]
  },
  {
   "cell_type": "code",
   "execution_count": 26,
   "id": "6b9aeeb3-fa60-4297-a0f2-2c39355a6565",
   "metadata": {},
   "outputs": [
    {
     "data": {
      "image/png": "[encoded data removed]",
      "text/plain": [
       "<Figure size 1000x600 with 1 Axes>"
      ]
     },
     "metadata": {},
     "output_type": "display_data"
    }
   ],
   "source": [
    "plt.figure(figsize=(10, 6))\n",
    "sns.barplot(x=completion_stage_sorted.index, y=completion_stage_sorted.values, palette='Blues')\n",
    "plt.title('Number of  Clients by Process Step')\n",
    "plt.xlabel('Process Step')\n",
    "plt.ylabel('Number of  Clients')\n",
    "plt.xticks(rotation=45)\n",
    "plt.tight_layout()\n",
    "plt.show()"
   ]
  },
  {
   "cell_type": "code",
   "execution_count": 27,
   "id": "33248dae-3f3a-4cef-afff-3c7568644293",
   "metadata": {},
   "outputs": [
    {
     "name": "stdout",
     "output_type": "stream",
     "text": [
      "Start bounce rate: 11.3 %\n"
     ]
    }
   ],
   "source": [
    "# Start Bounce Rate\n",
    "# Number of visitors who left after the first step/Total visitors to the first step\n",
    "start_bounce_rate = (completion_stage_sorted['start'] - completion_stage_sorted['step_1']) / completion_stage_sorted['start']*100\n",
    "print ('Start bounce rate:', start_bounce_rate.round(1)\n",
    ", '%')\n",
    " "
   ]
  },
  {
   "cell_type": "code",
   "execution_count": 28,
   "id": "a5605279-dac4-4dbf-9ce7-39c5c4e941f3",
   "metadata": {},
   "outputs": [
    {
     "name": "stdout",
     "output_type": "stream",
     "text": [
      "First step bounce rate: 7.9 %\n"
     ]
    }
   ],
   "source": [
    "# First Step Bounce Rate\n",
    "# Number of visitors who left after the first step/Total visitors to the first step\n",
    "first_step_bounce_rate = (completion_stage_sorted['step_1'] - completion_stage_sorted['step_2']) / completion_stage_sorted['step_1']*100\n",
    "first_step_bounce_rate.round(2)\n",
    "print( 'First step bounce rate:', first_step_bounce_rate.round(1)\n",
    ", '%')"
   ]
  },
  {
   "cell_type": "code",
   "execution_count": 29,
   "id": "7324d3fb-6429-4221-95ba-aa7d6a508337",
   "metadata": {},
   "outputs": [
    {
     "name": "stdout",
     "output_type": "stream",
     "text": [
      "Second step bounce rate: 6.4 %\n"
     ]
    }
   ],
   "source": [
    "# Second Step Bounce Rate\n",
    "# Number of visitors who left after the second step/Total visitors to the second step\n",
    "second_step_bounce_rate = (completion_stage_sorted['step_2'] - completion_stage_sorted['step_3']) / completion_stage_sorted['step_2']*100\n",
    "second_step_bounce_rate.round(2)\n",
    "print( 'Second step bounce rate:', second_step_bounce_rate.round(1)\n",
    ", '%')"
   ]
  },
  {
   "cell_type": "code",
   "execution_count": 30,
   "id": "e815966e-7f5e-473d-8a57-26002e004f0d",
   "metadata": {},
   "outputs": [
    {
     "name": "stdout",
     "output_type": "stream",
     "text": [
      "Third step bounce rate: 10.9 %\n"
     ]
    }
   ],
   "source": [
    "# Third Step Bounce Rate\n",
    "# Number of visitors who left after the third step/Total visitors to the third step\n",
    "third_step_bounce_rate = (completion_stage_sorted['step_3'] - completion_stage_sorted['confirm']) / completion_stage_sorted['step_3']*100\n",
    "third_step_bounce_rate.round(1)\n",
    "print( 'Third step bounce rate:', third_step_bounce_rate.round(1), '%')"
   ]
  },
  {
   "cell_type": "code",
   "execution_count": 31,
   "id": "b0a995cf-a597-4e3a-84c7-210cb1e3a079",
   "metadata": {},
   "outputs": [
    {
     "name": "stdout",
     "output_type": "stream",
     "text": [
      "Error Rate for Test Variation: 59.17%\n",
      "Error Rate for Control Variation: 59.72%\n",
      "T-statistic: -3.1436, P-value: 0.0017\n"
     ]
    }
   ],
   "source": [
    "# Define the process steps in the correct order\n",
    "step_order = ['start', 'step_1', 'step_2', 'step_3', 'confirm']\n",
    "\n",
    "# Check for errors in the process steps by comparing with the previous step\n",
    "cleaned_df['error_flag'] = cleaned_df['process_step'].apply(lambda step: step_order.index(step))\n",
    "\n",
    "# Check if any process step goes backward\n",
    "cleaned_df['error'] = (cleaned_df['error_flag'].diff() < 0).astype(int)\n",
    "\n",
    "# Filter for Test and Control groups\n",
    "test_group = cleaned_df[cleaned_df['Variation'] == 'Test']\n",
    "control_group = cleaned_df[cleaned_df['Variation'] == 'Control']\n",
    "\n",
    "# Calculate error rates for Test and Control groups\n",
    "test_error_rate = test_group['error'].mean() * 100 if not test_group.empty else 0\n",
    "control_error_rate = control_group['error'].mean() * 100 if not control_group.empty else 0\n",
    "\n",
    "# Print error rates\n",
    "print(f\"Error Rate for Test Variation: {test_error_rate:.2f}%\")\n",
    "print(f\"Error Rate for Control Variation: {control_error_rate:.2f}%\")\n",
    "\n",
    "# Perform t-test between the Test and Control groups\n",
    "t_stat, p_value = st.ttest_ind(\n",
    "    test_group['error'], control_group['error'], equal_var=False\n",
    ")\n",
    "\n",
    "# Print t-test results\n",
    "print(f\"T-statistic: {t_stat:.4f}, P-value: {p_value:.4f}\")"
   ]
  },
  {
   "cell_type": "raw",
   "id": "69064170-c7ae-440d-b480-0c5e350a9e0f",
   "metadata": {},
   "source": [
    "error_counts = []\n",
    "error_counts_series = pd.Series(error_counts)\n",
    "\n",
    "# Reset the index of error_counts_series to align it with cleaned_df\n",
    "error_counts_series = error_counts_series.reset_index(drop=True)\n",
    "cleaned_df = cleaned_df.reset_index(drop=True)\n",
    "\n",
    "# Now filter for Test and Control groups\n",
    "test_errors = error_counts_series[cleaned_df['Variation'] == 'Test'].sum()\n",
    "control_errors = error_counts_series[cleaned_df['Variation'] == 'Control'].sum()\n",
    "\n",
    "# Count total instances for Test and Control\n",
    "test_total = (cleaned_df['Variation'] == 'Test').sum()\n",
    "control_total = (cleaned_df['Variation'] == 'Control').sum()\n",
    "\n",
    "# Calculate error rates\n",
    "test_error_rate = (test_errors / test_total) * 100 if test_total > 0 else 0\n",
    "control_error_rate = (control_errors / control_total) * 100 if control_total > 0 else 0\n",
    "\n",
    "# Print results\n",
    "print(f\"Error Rate for Test Variation: {test_error_rate:.2f}%\")\n",
    "print(f\"Error Rate for Control Variation: {control_error_rate:.2f}%\")\n",
    "\n",
    "# Conduct t-test for overall error rates\n",
    "t_stat, p_value = st.ttest_ind(\n",
    "    error_counts_series[cleaned_df['Variation'] == 'Test'],\n",
    "    error_counts_series[cleaned_df['Variation'] == 'Control'],\n",
    "    equal_var=False\n",
    ")\n",
    "\n",
    "# Print t-test results\n",
    "print(f\"T-statistic: {t_stat:.4f}, P-value: {p_value:.4f}\")"
   ]
  },
  {
   "cell_type": "code",
   "execution_count": 32,
   "id": "ccdea008-c770-490f-93b8-c61e9a906ca5",
   "metadata": {
    "scrolled": true
   },
   "outputs": [
    {
     "data": {
      "text/html": [
       "<div>\n",
       "<style scoped>\n",
       "    .dataframe tbody tr th:only-of-type {\n",
       "        vertical-align: middle;\n",
       "    }\n",
       "\n",
       "    .dataframe tbody tr th {\n",
       "        vertical-align: top;\n",
       "    }\n",
       "\n",
       "    .dataframe thead th {\n",
       "        text-align: right;\n",
       "    }\n",
       "</style>\n",
       "<table border=\"1\" class=\"dataframe\">\n",
       "  <thead>\n",
       "    <tr style=\"text-align: right;\">\n",
       "      <th></th>\n",
       "      <th></th>\n",
       "      <th>client_id</th>\n",
       "    </tr>\n",
       "    <tr>\n",
       "      <th>Variation</th>\n",
       "      <th>process_step</th>\n",
       "      <th></th>\n",
       "    </tr>\n",
       "  </thead>\n",
       "  <tbody>\n",
       "    <tr>\n",
       "      <th rowspan=\"5\" valign=\"top\">Test</th>\n",
       "      <th>start</th>\n",
       "      <td>26672</td>\n",
       "    </tr>\n",
       "    <tr>\n",
       "      <th>step_1</th>\n",
       "      <td>24260</td>\n",
       "    </tr>\n",
       "    <tr>\n",
       "      <th>step_2</th>\n",
       "      <td>22252</td>\n",
       "    </tr>\n",
       "    <tr>\n",
       "      <th>step_3</th>\n",
       "      <td>20876</td>\n",
       "    </tr>\n",
       "    <tr>\n",
       "      <th>confirm</th>\n",
       "      <td>18682</td>\n",
       "    </tr>\n",
       "    <tr>\n",
       "      <th rowspan=\"5\" valign=\"top\">Control</th>\n",
       "      <th>start</th>\n",
       "      <td>23391</td>\n",
       "    </tr>\n",
       "    <tr>\n",
       "      <th>step_1</th>\n",
       "      <td>20146</td>\n",
       "    </tr>\n",
       "    <tr>\n",
       "      <th>step_2</th>\n",
       "      <td>18644</td>\n",
       "    </tr>\n",
       "    <tr>\n",
       "      <th>step_3</th>\n",
       "      <td>17416</td>\n",
       "    </tr>\n",
       "    <tr>\n",
       "      <th>confirm</th>\n",
       "      <td>15428</td>\n",
       "    </tr>\n",
       "  </tbody>\n",
       "</table>\n",
       "</div>"
      ],
      "text/plain": [
       "                        client_id\n",
       "Variation process_step           \n",
       "Test      start             26672\n",
       "          step_1            24260\n",
       "          step_2            22252\n",
       "          step_3            20876\n",
       "          confirm           18682\n",
       "Control   start             23391\n",
       "          step_1            20146\n",
       "          step_2            18644\n",
       "          step_3            17416\n",
       "          confirm           15428"
      ]
     },
     "execution_count": 32,
     "metadata": {},
     "output_type": "execute_result"
    }
   ],
   "source": [
    "# total frequency of each step total by control/test \n",
    "process_step_frequency_total = cleaned_df.groupby(['Variation'])['process_step'].value_counts()\n",
    "process_step_frequency_total \n",
    "process_step_variation = cleaned_df.groupby(['Variation','process_step'])['client_id'].nunique() \n",
    "process_step_sorted_variation = pd.DataFrame(process_step_variation).sort_values(by=['Variation','client_id'], ascending = False)\n",
    "process_step_sorted_variation"
   ]
  },
  {
   "cell_type": "code",
   "execution_count": 33,
   "id": "01dafd9f-4656-458e-9962-732c1ad73613",
   "metadata": {},
   "outputs": [
    {
     "data": {
      "text/plain": [
       "321195"
      ]
     },
     "execution_count": 33,
     "metadata": {},
     "output_type": "execute_result"
    }
   ],
   "source": [
    "process_step_frequency_total.sum()"
   ]
  },
  {
   "cell_type": "code",
   "execution_count": 34,
   "id": "556a05dd-97d6-4866-8963-9745daa4301d",
   "metadata": {
    "scrolled": true
   },
   "outputs": [
    {
     "data": {
      "text/plain": [
       "process_step\n",
       "start      50063\n",
       "step_1     44406\n",
       "step_2     40896\n",
       "step_3     38292\n",
       "confirm    34110\n",
       "Name: client_id, dtype: int64"
      ]
     },
     "execution_count": 34,
     "metadata": {},
     "output_type": "execute_result"
    }
   ],
   "source": [
    "# Unique frequency for each step for all clients\n",
    "process_step_frequency_unique = cleaned_df.groupby('process_step')['client_id'].nunique()\n",
    "process_step_frequency_unique.sort_values(ascending=False)"
   ]
  },
  {
   "cell_type": "code",
   "execution_count": 35,
   "id": "b70ca245-ef97-4e39-b110-c4dc51c40fab",
   "metadata": {},
   "outputs": [
    {
     "data": {
      "text/html": [
       "<div>\n",
       "<style scoped>\n",
       "    .dataframe tbody tr th:only-of-type {\n",
       "        vertical-align: middle;\n",
       "    }\n",
       "\n",
       "    .dataframe tbody tr th {\n",
       "        vertical-align: top;\n",
       "    }\n",
       "\n",
       "    .dataframe thead th {\n",
       "        text-align: right;\n",
       "    }\n",
       "</style>\n",
       "<table border=\"1\" class=\"dataframe\">\n",
       "  <thead>\n",
       "    <tr style=\"text-align: right;\">\n",
       "      <th></th>\n",
       "      <th></th>\n",
       "      <th>count</th>\n",
       "      <th>client_id</th>\n",
       "      <th>unique_frequency as % total</th>\n",
       "    </tr>\n",
       "    <tr>\n",
       "      <th>Variation</th>\n",
       "      <th>process_step</th>\n",
       "      <th></th>\n",
       "      <th></th>\n",
       "      <th></th>\n",
       "    </tr>\n",
       "  </thead>\n",
       "  <tbody>\n",
       "    <tr>\n",
       "      <th rowspan=\"5\" valign=\"top\">Control</th>\n",
       "      <th>start</th>\n",
       "      <td>47589</td>\n",
       "      <td>23391</td>\n",
       "      <td>0.49</td>\n",
       "    </tr>\n",
       "    <tr>\n",
       "      <th>step_1</th>\n",
       "      <td>29657</td>\n",
       "      <td>20146</td>\n",
       "      <td>0.68</td>\n",
       "    </tr>\n",
       "    <tr>\n",
       "      <th>step_2</th>\n",
       "      <td>25877</td>\n",
       "      <td>18644</td>\n",
       "      <td>0.72</td>\n",
       "    </tr>\n",
       "    <tr>\n",
       "      <th>step_3</th>\n",
       "      <td>22787</td>\n",
       "      <td>17416</td>\n",
       "      <td>0.76</td>\n",
       "    </tr>\n",
       "    <tr>\n",
       "      <th>confirm</th>\n",
       "      <td>17498</td>\n",
       "      <td>15428</td>\n",
       "      <td>0.88</td>\n",
       "    </tr>\n",
       "    <tr>\n",
       "      <th rowspan=\"5\" valign=\"top\">Test</th>\n",
       "      <th>start</th>\n",
       "      <td>56452</td>\n",
       "      <td>26672</td>\n",
       "      <td>0.47</td>\n",
       "    </tr>\n",
       "    <tr>\n",
       "      <th>step_1</th>\n",
       "      <td>38753</td>\n",
       "      <td>24260</td>\n",
       "      <td>0.63</td>\n",
       "    </tr>\n",
       "    <tr>\n",
       "      <th>step_2</th>\n",
       "      <td>30978</td>\n",
       "      <td>22252</td>\n",
       "      <td>0.72</td>\n",
       "    </tr>\n",
       "    <tr>\n",
       "      <th>step_3</th>\n",
       "      <td>25888</td>\n",
       "      <td>20876</td>\n",
       "      <td>0.81</td>\n",
       "    </tr>\n",
       "    <tr>\n",
       "      <th>confirm</th>\n",
       "      <td>25716</td>\n",
       "      <td>18682</td>\n",
       "      <td>0.73</td>\n",
       "    </tr>\n",
       "  </tbody>\n",
       "</table>\n",
       "</div>"
      ],
      "text/plain": [
       "                        count  client_id  unique_frequency as % total\n",
       "Variation process_step                                               \n",
       "Control   start         47589      23391                         0.49\n",
       "          step_1        29657      20146                         0.68\n",
       "          step_2        25877      18644                         0.72\n",
       "          step_3        22787      17416                         0.76\n",
       "          confirm       17498      15428                         0.88\n",
       "Test      start         56452      26672                         0.47\n",
       "          step_1        38753      24260                         0.63\n",
       "          step_2        30978      22252                         0.72\n",
       "          step_3        25888      20876                         0.81\n",
       "          confirm       25716      18682                         0.73"
      ]
     },
     "execution_count": 35,
     "metadata": {},
     "output_type": "execute_result"
    }
   ],
   "source": [
    "# unique frequency by client by control/test as % of total frequency\n",
    "horizontal_concat = pd.concat([process_step_frequency_total ,process_step_sorted_variation ], axis=1)\n",
    "horizontal_concat['unique_frequency as % total'] = horizontal_concat['client_id']/horizontal_concat['count']\n",
    "horizontal_concat.fillna(0).round(2)"
   ]
  },
  {
   "cell_type": "code",
   "execution_count": 36,
   "id": "43e7e6b4-a86f-4973-9013-4bcb9111a3bf",
   "metadata": {},
   "outputs": [],
   "source": [
    "horizontal_concat['unique_frequency as % total'] = horizontal_concat['client_id']/horizontal_concat['count']"
   ]
  },
  {
   "cell_type": "code",
   "execution_count": 37,
   "id": "ed569a34-59a9-44d9-ad32-ee8261c0d747",
   "metadata": {},
   "outputs": [],
   "source": [
    "process_step_sorted_variation['Drop_out'] = process_step_sorted_variation.groupby('Variation')['client_id'].diff()*-1\n"
   ]
  },
  {
   "cell_type": "code",
   "execution_count": 38,
   "id": "f1d3db77-1236-41a1-b072-72c5d33c6bac",
   "metadata": {},
   "outputs": [
    {
     "data": {
      "text/html": [
       "<div>\n",
       "<style scoped>\n",
       "    .dataframe tbody tr th:only-of-type {\n",
       "        vertical-align: middle;\n",
       "    }\n",
       "\n",
       "    .dataframe tbody tr th {\n",
       "        vertical-align: top;\n",
       "    }\n",
       "\n",
       "    .dataframe thead th {\n",
       "        text-align: right;\n",
       "    }\n",
       "</style>\n",
       "<table border=\"1\" class=\"dataframe\">\n",
       "  <thead>\n",
       "    <tr style=\"text-align: right;\">\n",
       "      <th></th>\n",
       "      <th></th>\n",
       "      <th>client_id</th>\n",
       "      <th>Drop_out</th>\n",
       "      <th>Percentage_drop_out, %</th>\n",
       "    </tr>\n",
       "    <tr>\n",
       "      <th>Variation</th>\n",
       "      <th>process_step</th>\n",
       "      <th></th>\n",
       "      <th></th>\n",
       "      <th></th>\n",
       "    </tr>\n",
       "  </thead>\n",
       "  <tbody>\n",
       "    <tr>\n",
       "      <th rowspan=\"5\" valign=\"top\">Test</th>\n",
       "      <th>start</th>\n",
       "      <td>26672</td>\n",
       "      <td>0.0</td>\n",
       "      <td>0.00</td>\n",
       "    </tr>\n",
       "    <tr>\n",
       "      <th>step_1</th>\n",
       "      <td>24260</td>\n",
       "      <td>2412.0</td>\n",
       "      <td>9.04</td>\n",
       "    </tr>\n",
       "    <tr>\n",
       "      <th>step_2</th>\n",
       "      <td>22252</td>\n",
       "      <td>2008.0</td>\n",
       "      <td>8.28</td>\n",
       "    </tr>\n",
       "    <tr>\n",
       "      <th>step_3</th>\n",
       "      <td>20876</td>\n",
       "      <td>1376.0</td>\n",
       "      <td>6.18</td>\n",
       "    </tr>\n",
       "    <tr>\n",
       "      <th>confirm</th>\n",
       "      <td>18682</td>\n",
       "      <td>2194.0</td>\n",
       "      <td>10.51</td>\n",
       "    </tr>\n",
       "    <tr>\n",
       "      <th rowspan=\"5\" valign=\"top\">Control</th>\n",
       "      <th>start</th>\n",
       "      <td>23391</td>\n",
       "      <td>0.0</td>\n",
       "      <td>0.00</td>\n",
       "    </tr>\n",
       "    <tr>\n",
       "      <th>step_1</th>\n",
       "      <td>20146</td>\n",
       "      <td>3245.0</td>\n",
       "      <td>13.87</td>\n",
       "    </tr>\n",
       "    <tr>\n",
       "      <th>step_2</th>\n",
       "      <td>18644</td>\n",
       "      <td>1502.0</td>\n",
       "      <td>7.46</td>\n",
       "    </tr>\n",
       "    <tr>\n",
       "      <th>step_3</th>\n",
       "      <td>17416</td>\n",
       "      <td>1228.0</td>\n",
       "      <td>6.59</td>\n",
       "    </tr>\n",
       "    <tr>\n",
       "      <th>confirm</th>\n",
       "      <td>15428</td>\n",
       "      <td>1988.0</td>\n",
       "      <td>11.41</td>\n",
       "    </tr>\n",
       "  </tbody>\n",
       "</table>\n",
       "</div>"
      ],
      "text/plain": [
       "                        client_id  Drop_out  Percentage_drop_out, %\n",
       "Variation process_step                                             \n",
       "Test      start             26672       0.0                    0.00\n",
       "          step_1            24260    2412.0                    9.04\n",
       "          step_2            22252    2008.0                    8.28\n",
       "          step_3            20876    1376.0                    6.18\n",
       "          confirm           18682    2194.0                   10.51\n",
       "Control   start             23391       0.0                    0.00\n",
       "          step_1            20146    3245.0                   13.87\n",
       "          step_2            18644    1502.0                    7.46\n",
       "          step_3            17416    1228.0                    6.59\n",
       "          confirm           15428    1988.0                   11.41"
      ]
     },
     "execution_count": 38,
     "metadata": {},
     "output_type": "execute_result"
    }
   ],
   "source": [
    "process_step_sorted_variation['Percentage_drop_out, %'] = process_step_sorted_variation['Drop_out']  / process_step_sorted_variation['client_id'].shift(1).round(2)* 100\n",
    "process_step_sorted_variation.fillna(0).round(2)\n"
   ]
  },
  {
   "cell_type": "code",
   "execution_count": 39,
   "id": "e93925e1-d3e8-4505-8768-4f0e57ac53f7",
   "metadata": {},
   "outputs": [
    {
     "name": "stdout",
     "output_type": "stream",
     "text": [
      "Retention by Variation:\n",
      "Control: 65.58%\n",
      "Test: 69.29%\n"
     ]
    }
   ],
   "source": [
    "# Group by Variation (Test and Control)\n",
    "grouped_variations = cleaned_df.groupby('Variation')\n",
    "\n",
    "# Initialize a dictionary to store dropout rates for each group\n",
    "dropout_rates = {}\n",
    "\n",
    "# Iterate over each group (Test and Control)\n",
    "for variation, group_data in grouped_variations:\n",
    "    \n",
    "    # Step 1: Get clients who reached the 'confirm' step (dropouts)\n",
    "    dropout_clients = group_data[group_data['process_step'] == 'confirm']['client_id'].unique()\n",
    "    \n",
    "    # Step 2: Get total unique clients in the group\n",
    "    total_participants = group_data['client_id'].nunique()\n",
    "    \n",
    "    # Step 3: Calculate the number of dropouts\n",
    "    num_dropouts = len(dropout_clients)\n",
    "    \n",
    "    # Step 4: Calculate dropout rate for the group\n",
    "    dropout_rate = (num_dropouts / total_participants) * 100 if total_participants > 0 else 0\n",
    "    \n",
    "    # Store the result in the dictionary with the Variation as the key\n",
    "    dropout_rates[variation] = dropout_rate\n",
    "\n",
    "# Print dropout rates for Test and Control\n",
    "print(f'Retention by Variation:')\n",
    "for variation, rate in dropout_rates.items():\n",
    "    print(f'{variation}: {rate:.2f}%')\n"
   ]
  },
  {
   "cell_type": "markdown",
   "id": "70b585a1-bae3-45cc-b525-f513d42e5c13",
   "metadata": {},
   "source": [
    "Duration KPIs"
   ]
  },
  {
   "cell_type": "code",
   "execution_count": null,
   "id": "101c4a3e-6cb0-4984-99b3-71f7f15b599e",
   "metadata": {},
   "outputs": [],
   "source": [
    "df = cleaned_df.copy()\n",
    "\n",
    "# convert date time to right format\n",
    "df['date_time'] = pd.to_datetime(df['date_time'])\n",
    "\n",
    "# sort\n",
    "df = df.sort_values(['client_id', 'visit_id', 'date_time'])\n",
    "\n",
    "# define steps\n",
    "steps = ['start', 'step_1', 'step_2', 'step_3', 'confirm']\n",
    "\n",
    "# process each group (later grouped by client id and visit id)\n",
    "def process_group(group):\n",
    "    # sort group by date_time\n",
    "    group = group.sort_values('date_time')\n",
    "    durations = {}\n",
    "    for i in range(len(steps) - 1):\n",
    "        current_step = steps[i]\n",
    "        next_step = steps[i + 1]\n",
    "        current_times = group.loc[group['process_step'] == current_step, 'date_time']\n",
    "        next_times = group.loc[group['process_step'] == next_step, 'date_time']\n",
    "        if not current_times.empty and not next_times.empty:\n",
    "            # get first occurrence of current step and last occurrence of next step\n",
    "            current_time = current_times.iloc[0]\n",
    "            next_time = next_times.iloc[-1]\n",
    "            if current_time <= next_time:\n",
    "                duration = (next_time - current_time).total_seconds()\n",
    "                durations[f'{current_step}_to_{next_step}'] = duration\n",
    "            else:\n",
    "                # invalid if first instance of current step occurs after next step\n",
    "                durations[f'{current_step}_to_{next_step}'] = np.nan\n",
    "        else:\n",
    "            durations[f'{current_step}_to_{next_step}'] = np.nan\n",
    "    # total duration only if all steps are present\n",
    "    all_steps_present = all(\n",
    "        [not group.loc[group['process_step'] == step, 'date_time'].empty for step in steps])\n",
    "    if all_steps_present:\n",
    "        start_time = group.loc[group['process_step'] == 'start', 'date_time'].iloc[0]\n",
    "        confirm_time = group.loc[group['process_step'] == 'confirm', 'date_time'].iloc[-1]\n",
    "        if start_time <= confirm_time:\n",
    "            total_duration = (confirm_time - start_time).total_seconds()\n",
    "            durations['start_to_confirm'] = total_duration\n",
    "        else:\n",
    "            durations['start_to_confirm'] = np.nan\n",
    "    else:\n",
    "        durations['start_to_confirm'] = np.nan\n",
    "    # identifiers\n",
    "    durations['client_id'] = group['client_id'].iloc[0]\n",
    "    durations['visit_id'] = group['visit_id'].iloc[0]\n",
    "    return pd.Series(durations)\n",
    "\n",
    "# apply function to grouped df\n",
    "grouped = df.groupby(['client_id', 'visit_id'])\n",
    "durations_df = grouped.apply(process_group).reset_index(drop=True)\n",
    "\n",
    "# get test vs control per client_id and visit_id\n",
    "variation_per_visit = df.groupby(['client_id', 'visit_id'])['Variation'].first().reset_index()\n",
    "durations_df = durations_df.merge(variation_per_visit, on=['client_id', 'visit_id'], how='left')\n",
    "\n",
    "# calculate average durations per client_id\n",
    "average_durations = durations_df.groupby('client_id').mean(numeric_only=True).reset_index()\n",
    "\n",
    "# merge 'Variation' per client_id\n",
    "variation_per_client = df.groupby('client_id')['Variation'].first().reset_index()\n",
    "average_durations = average_durations.merge(variation_per_client, on='client_id', how='left')\n",
    "\n",
    "# define duration columns\n",
    "duration_columns = [\n",
    "    'start_to_step_1',\n",
    "    'step_1_to_step_2',\n",
    "    'step_2_to_step_3',\n",
    "    'step_3_to_confirm',\n",
    "    'start_to_confirm'\n",
    "]\n",
    "\n",
    "# outlier detection and cleaning\n",
    "average_durations_cleaned = average_durations.copy()\n",
    "\n",
    "# function to detect outliers using IQR\n",
    "def flag_outliers_IQR(data, column):\n",
    "    Q1 = data[column].quantile(0.25)\n",
    "    Q3 = data[column].quantile(0.75)\n",
    "    IQR = Q3 - Q1\n",
    "    # Define acceptable range\n",
    "    lower_bound = Q1 - 1.5 * IQR\n",
    "    upper_bound = Q3 + 1.5 * IQR\n",
    "    data[f'{column}_outlier'] = ~data[column].between(lower_bound, upper_bound)\n",
    "    return data\n",
    "\n",
    "# apply func to duration columns\n",
    "for duration in duration_columns:\n",
    "    average_durations_cleaned = flag_outliers_IQR(average_durations_cleaned, duration)\n",
    "\n",
    "# identify rows without outliers\n",
    "no_outliers = ~average_durations_cleaned[\n",
    "    [f'{col}_outlier' for col in duration_columns]\n",
    "].any(axis=1)\n",
    "\n",
    "# create df without outliers\n",
    "average_durations_no_outliers = average_durations_cleaned[no_outliers].copy()\n",
    "\n",
    "print(f\"Number of records before removing outliers: {average_durations.shape[0]}\")\n",
    "print(f\"Number of records after removing outliers: {average_durations_no_outliers.shape[0]}\")\n",
    "\n",
    "# final analysis data\n",
    "analysis_data = average_durations_no_outliers.copy()"
   ]
  },
  {
   "cell_type": "code",
   "execution_count": null,
   "id": "7196d7c5-341d-4c46-b070-a369770a0953",
   "metadata": {},
   "outputs": [],
   "source": [
    "#------\n",
    "# stats\n",
    "#------\n",
    "# mean and sd for each duration\n",
    "overall_stats = analysis_data[duration_columns].agg(['mean', 'std']).transpose()\n",
    "print(\"Overall Mean and Standard Deviation for each duration (without outliers):\")\n",
    "print(overall_stats)\n",
    "\n",
    "# mean and sd per group\n",
    "group_stats = analysis_data.groupby('Variation')[duration_columns].agg(['mean', 'std']).transpose()\n",
    "print(\"\\nMean and Standard Deviation for each duration by Variation group (without outliers):\")\n",
    "print(group_stats)\n",
    "\n",
    "# t-tests\n",
    "test_group = analysis_data[analysis_data['Variation'] == 'Test']\n",
    "control_group = analysis_data[analysis_data['Variation'] == 'Control']\n",
    "\n",
    "t_test_results = {}\n",
    "for duration in duration_columns:\n",
    "    test_values = test_group[duration].dropna()\n",
    "    control_values = control_group[duration].dropna()\n",
    "    t_stat, p_value = ttest_ind(test_values, control_values, equal_var=False)\n",
    "    t_test_results[duration] = {'t_statistic': t_stat, 'p_value': p_value}\n",
    "\n",
    "print(\"\\nT-test results for each duration between Test and Control groups (without outliers):\")\n",
    "for duration, results in t_test_results.items():\n",
    "    print(f\"{duration}: t-statistic = {results['t_statistic']:.4f}, p-value = {results['p_value']:.4f}\")"
   ]
  },
  {
   "cell_type": "code",
   "execution_count": null,
   "id": "7698b4ba-545d-4717-9d41-84ea5f422142",
   "metadata": {},
   "outputs": [],
   "source": [
    "#----\n",
    "# vis\n",
    "#----\n",
    "sns.set(style='whitegrid')\n",
    "\n",
    "# boxplots\n",
    "for duration in duration_columns:\n",
    "    plt.figure(figsize=(8, 6))\n",
    "    sns.boxplot(x='Variation', y=duration, data=analysis_data)\n",
    "    plt.title(f'Boxplot of {duration} by Variation (without outliers)')\n",
    "    plt.xlabel('Variation')\n",
    "    plt.ylabel('Duration (seconds)')\n",
    "    plt.show()"
   ]
  },
  {
   "cell_type": "code",
   "execution_count": null,
   "id": "8e048528-23d4-47fa-8c9d-ab2ef7f7d313",
   "metadata": {},
   "outputs": [],
   "source": [
    "# histograms\n",
    "for duration in duration_columns:\n",
    "    plt.figure(figsize=(8, 6))\n",
    "    sns.histplot(data=analysis_data, x=duration, hue='Variation', kde=True, bins=30)\n",
    "    plt.title(f'Histogram of {duration} by Variation (without outliers)')\n",
    "    plt.xlabel('Duration (seconds)')\n",
    "    plt.ylabel('Frequency')\n",
    "    plt.show()"
   ]
  },
  {
   "cell_type": "code",
   "execution_count": null,
   "id": "69d91685-878a-4d8a-8749-e4ae51257478",
   "metadata": {},
   "outputs": [],
   "source": [
    "cleaned_df.to_csv('cleaned_data_w_steps.csv')\n",
    "df.to_csv('cleaned_data.csv')\n",
    "analysis_data.to_csv('cleaned_duration_data.csv')"
   ]
  }
 ],
 "metadata": {
  "kernelspec": {
   "display_name": "Python 3 (ipykernel)",
   "language": "python",
   "name": "python3"
  },
  "language_info": {
   "codemirror_mode": {
    "name": "ipython",
    "version": 3
   },
   "file_extension": ".py",
   "mimetype": "text/x-python",
   "name": "python",
   "nbconvert_exporter": "python",
   "pygments_lexer": "ipython3",
   "version": "3.9.19"
  }
 },
 "nbformat": 4,
 "nbformat_minor": 5
}
